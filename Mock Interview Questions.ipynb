{
 "cells": [
  {
   "cell_type": "markdown",
   "metadata": {},
   "source": [
    "#### 1. Remove Duplicate"
   ]
  },
  {
   "cell_type": "code",
   "execution_count": 44,
   "metadata": {},
   "outputs": [],
   "source": [
    "def removeDuplicates(s):\n",
    "    results = []\n",
    "    seen = set()\n",
    "    \n",
    "    for char in s:\n",
    "        if char not in seen:\n",
    "            seen.add(char)\n",
    "            results.append(char)\n",
    "    \n",
    "    return ''.join(results)"
   ]
  },
  {
   "cell_type": "code",
   "execution_count": 45,
   "metadata": {},
   "outputs": [],
   "source": [
    "s = 'CCAATT'"
   ]
  },
  {
   "cell_type": "code",
   "execution_count": 46,
   "metadata": {},
   "outputs": [
    {
     "name": "stdout",
     "output_type": "stream",
     "text": [
      "CAT\n"
     ]
    }
   ],
   "source": [
    "print(removeDuplicates(string))"
   ]
  },
  {
   "cell_type": "markdown",
   "metadata": {},
   "source": [
    "#### 2. Given a List of integers and a target number return a boolean (or the actual integers) indicating its possible to sum two int from the list to reach target number"
   ]
  },
  {
   "cell_type": "code",
   "execution_count": 65,
   "metadata": {},
   "outputs": [],
   "source": [
    "def solution(lst, target):\n",
    "    seen = set()\n",
    "    \n",
    "    for num in lst:\n",
    "        num2 = target - num\n",
    "        \n",
    "        if num2 in seen:\n",
    "            return True    # actual int: return num2, num\n",
    "        \n",
    "        seen.add(num)\n",
    "        \n",
    "    return False\n",
    "    "
   ]
  },
  {
   "cell_type": "code",
   "execution_count": 66,
   "metadata": {},
   "outputs": [],
   "source": [
    "lst = [1,2,3,4,5,6,2]"
   ]
  },
  {
   "cell_type": "code",
   "execution_count": 67,
   "metadata": {},
   "outputs": [
    {
     "data": {
      "text/plain": [
       "True"
      ]
     },
     "execution_count": 67,
     "metadata": {},
     "output_type": "execute_result"
    }
   ],
   "source": [
    "solution(lst,10)"
   ]
  },
  {
   "cell_type": "markdown",
   "metadata": {},
   "source": [
    "#### 3. Given a list of account ID numbers(integers) which contains duplicates, find the one unique interger (non-duplicate)"
   ]
  },
  {
   "cell_type": "code",
   "execution_count": 93,
   "metadata": {},
   "outputs": [],
   "source": [
    "def solution (id_lst):\n",
    "    unique_id = 0\n",
    "    \n",
    "    for i in id_lst:\n",
    "        unique_id ^= i\n",
    "        \n",
    "    return unique_id\n",
    "    "
   ]
  },
  {
   "cell_type": "code",
   "execution_count": 96,
   "metadata": {},
   "outputs": [],
   "source": [
    "id_lst = [1,2,3,2,1,]"
   ]
  },
  {
   "cell_type": "code",
   "execution_count": 97,
   "metadata": {},
   "outputs": [
    {
     "data": {
      "text/plain": [
       "3"
      ]
     },
     "execution_count": 97,
     "metadata": {},
     "output_type": "execute_result"
    }
   ],
   "source": [
    "solution(id_lst)"
   ]
  },
  {
   "cell_type": "markdown",
   "metadata": {},
   "source": [
    "#### 4. take in a unsorted list of prices and a Max value and return a sorted list of prices"
   ]
  },
  {
   "cell_type": "code",
   "execution_count": 100,
   "metadata": {},
   "outputs": [],
   "source": [
    "def solution(unsorted_price, max_price):\n",
    "    \n",
    "    prices_to_counts = [0] *(max_price+1)\n",
    "    \n",
    "    for price in unsorted_prices:\n",
    "        prices_to_counts[price] += 1\n",
    "        \n",
    "    sorted_prices = []\n",
    "    \n",
    "    for price,count in enumerate(prices_to_counts):\n",
    "        for time in range(count):\n",
    "            sorted_prices.append(prices)\n",
    "            \n",
    "    return sorted_prices"
   ]
  },
  {
   "cell_type": "markdown",
   "metadata": {},
   "source": [
    "#### 5. write a function that compute the Nth fibonacci number"
   ]
  },
  {
   "cell_type": "code",
   "execution_count": 131,
   "metadata": {},
   "outputs": [],
   "source": [
    "def fib_nth(n):\n",
    "    if n == 0 or n == 1:\n",
    "        return 1\n",
    "    return fib_nth(n-1) + fib_nth(n-2)"
   ]
  },
  {
   "cell_type": "code",
   "execution_count": 132,
   "metadata": {},
   "outputs": [
    {
     "data": {
      "text/plain": [
       "34"
      ]
     },
     "execution_count": 132,
     "metadata": {},
     "output_type": "execute_result"
    }
   ],
   "source": [
    "fib_nth(8)"
   ]
  },
  {
   "cell_type": "code",
   "execution_count": 133,
   "metadata": {},
   "outputs": [],
   "source": [
    "def fib(n):\n",
    "    a,b = 1,0\n",
    "    for i in range(n-1):\n",
    "        a,b = b,a+b\n",
    "    return a"
   ]
  },
  {
   "cell_type": "code",
   "execution_count": 134,
   "metadata": {},
   "outputs": [
    {
     "data": {
      "text/plain": [
       "34"
      ]
     },
     "execution_count": 134,
     "metadata": {},
     "output_type": "execute_result"
    }
   ],
   "source": [
    "fib_nth(8)"
   ]
  },
  {
   "cell_type": "markdown",
   "metadata": {},
   "source": [
    "#### 6. Given a dice that rolls 1 to 7 simulate a 5 sided dice"
   ]
  },
  {
   "cell_type": "code",
   "execution_count": 137,
   "metadata": {},
   "outputs": [],
   "source": [
    "from random import randint\n",
    "\n",
    "def dice7():\n",
    "    return randint(1,7)\n",
    "def convert7to5():\n",
    "    roll = 7\n",
    "    while roll >5:\n",
    "        roll = dice7()\n",
    "    return roll"
   ]
  },
  {
   "cell_type": "code",
   "execution_count": 145,
   "metadata": {},
   "outputs": [
    {
     "data": {
      "text/plain": [
       "2"
      ]
     },
     "execution_count": 145,
     "metadata": {},
     "output_type": "execute_result"
    }
   ],
   "source": [
    "convert7to5()"
   ]
  },
  {
   "cell_type": "markdown",
   "metadata": {},
   "source": [
    "#### 7. Given a dice that rolls 1 to 5 simulate a 7 sided dice"
   ]
  },
  {
   "cell_type": "code",
   "execution_count": 160,
   "metadata": {},
   "outputs": [],
   "source": [
    "from random import randint\n",
    "\n",
    "def dice5():\n",
    "    return randint(1,5)\n",
    "\n",
    "def convert5to7():\n",
    "    while True:\n",
    "        roll_1 = dice5()\n",
    "        roll_2 = dice5()\n",
    "        \n",
    "        num = ((roll_1 -1) * 5 ) + (roll_2)\n",
    "        \n",
    "        if num > 21:\n",
    "            continue\n",
    "            \n",
    "        return num %7 + 1"
   ]
  },
  {
   "cell_type": "code",
   "execution_count": 161,
   "metadata": {},
   "outputs": [
    {
     "data": {
      "text/plain": [
       "2"
      ]
     },
     "execution_count": 161,
     "metadata": {},
     "output_type": "execute_result"
    }
   ],
   "source": [
    "convert5to7()"
   ]
  },
  {
   "cell_type": "markdown",
   "metadata": {},
   "source": [
    "#### 7. Given a string write a recursive to reverse it"
   ]
  },
  {
   "cell_type": "code",
   "execution_count": 172,
   "metadata": {},
   "outputs": [],
   "source": [
    "def reverse(s):\n",
    "    if len(s) == 1:\n",
    "        return s\n",
    "    return reverse(s[1:]) + s[0]"
   ]
  },
  {
   "cell_type": "code",
   "execution_count": 173,
   "metadata": {},
   "outputs": [
    {
     "data": {
      "text/plain": [
       "'scotty'"
      ]
     },
     "execution_count": 173,
     "metadata": {},
     "output_type": "execute_result"
    }
   ],
   "source": [
    "reverse('yttocs')"
   ]
  },
  {
   "cell_type": "markdown",
   "metadata": {},
   "source": [
    "#### 8. Find the Sqaure root of a given number and round it down to the nearest integer. Do not use any sqrt function"
   ]
  },
  {
   "cell_type": "code",
   "execution_count": 179,
   "metadata": {},
   "outputs": [],
   "source": [
    "def solution(num):\n",
    "    if num<0:\n",
    "        return ValueError\n",
    "    \n",
    "    if num == 1:\n",
    "        return 1\n",
    "    \n",
    "    for k in range((num//2)+1):\n",
    "        if k**2 == num:\n",
    "            return k\n",
    "        elif k**2 > num:\n",
    "            return k - 1\n",
    "        \n",
    "    return k"
   ]
  },
  {
   "cell_type": "code",
   "execution_count": 181,
   "metadata": {},
   "outputs": [
    {
     "data": {
      "text/plain": [
       "4"
      ]
     },
     "execution_count": 181,
     "metadata": {},
     "output_type": "execute_result"
    }
   ],
   "source": [
    "solution(16)"
   ]
  },
  {
   "cell_type": "markdown",
   "metadata": {},
   "source": [
    "#### 9. Egg drop problem"
   ]
  },
  {
   "cell_type": "markdown",
   "metadata": {},
   "source": [
    "Start a 10 then go to 20. basic binary search  \n",
    "Generalize the floors to n.\n",
    " 14\n"
   ]
  },
  {
   "cell_type": "markdown",
   "metadata": {},
   "source": [
    "#### 10. Given 2 rectangles as Dics determine if they overlaps"
   ]
  },
  {
   "cell_type": "code",
   "execution_count": 216,
   "metadata": {},
   "outputs": [],
   "source": [
    "def cal_overlap(coor1,dim1,coor2,dim2):\n",
    "    greater = max(coor1,coor2)\n",
    "    lower = min(coor1 + dim1, coor2 + dim2)\n",
    "    \n",
    "    if greater >= lower:\n",
    "        return (None,None)\n",
    "    overlap = lower-greater\n",
    "    \n",
    "    return (greater,overlap)"
   ]
  },
  {
   "cell_type": "code",
   "execution_count": 217,
   "metadata": {},
   "outputs": [],
   "source": [
    "def cal_rect_overlap(r1,r2):\n",
    "    x_overlap, w_overlap = cal_overlap(r1['x'],r1['w'],r2['x'],r2['w'])\n",
    "    \n",
    "    y_overlap, h_overlap = cal_overlap(r1['y'],r1['h'],r2['y'],r2['h'])\n",
    "    \n",
    "    if not w_overlap or not h_overlap:\n",
    "        print(\"NO Overlap\")\n",
    "        return None\n",
    "    \n",
    "    return {'x':x_overlap, 'y':y_overlap, 'w':w_overlap, 'h':h_overlap}\n"
   ]
  },
  {
   "cell_type": "code",
   "execution_count": 218,
   "metadata": {},
   "outputs": [
    {
     "data": {
      "text/plain": [
       "{'x': 2, 'y': 5, 'w': 5, 'h': 11}"
      ]
     },
     "execution_count": 218,
     "metadata": {},
     "output_type": "execute_result"
    }
   ],
   "source": [
    "r1 = {'x': 2 , 'y': 4,'w':5,'h':12}\n",
    "r2 = {'x': 1 , 'y': 5,'w':7,'h':14}\n",
    "cal_rect_overlap(r1,r2)"
   ]
  },
  {
   "cell_type": "code",
   "execution_count": null,
   "metadata": {},
   "outputs": [],
   "source": []
  },
  {
   "cell_type": "markdown",
   "metadata": {},
   "source": [
    "#### 11. Given a list of integers return a list in which each index the element wil be the product of all integers except fot the element at that index"
   ]
  },
  {
   "cell_type": "code",
   "execution_count": 201,
   "metadata": {},
   "outputs": [],
   "source": [
    "def index_prod(lst):\n",
    "    output = [None] * len(lst)\n",
    "    \n",
    "    product = 1\n",
    "    i = 0\n",
    "    while i < len(lst):\n",
    "        output[i] = product\n",
    "        product *= lst[i]\n",
    "        i += 1\n",
    "   \n",
    "\n",
    "    product = 1\n",
    "    i = len(lst) - 1\n",
    "    while i >= 0:\n",
    "        output[i] *= product\n",
    "        product *= lst[i]\n",
    "        \n",
    "        i -= 1\n",
    "       \n",
    "    return output"
   ]
  },
  {
   "cell_type": "code",
   "execution_count": 202,
   "metadata": {},
   "outputs": [
    {
     "data": {
      "text/plain": [
       "[120, 60, 40, 30, 24]"
      ]
     },
     "execution_count": 202,
     "metadata": {},
     "output_type": "execute_result"
    }
   ],
   "source": [
    "index_prod([1,2,3,4,5])"
   ]
  },
  {
   "cell_type": "markdown",
   "metadata": {},
   "source": [
    "#### 12. Given a list of integers, find the largest product you could make from 3 integers in the list"
   ]
  },
  {
   "cell_type": "code",
   "execution_count": 220,
   "metadata": {},
   "outputs": [],
   "source": [
    "def solution(lst):\n",
    "    high = max(lst[0], lst[1])\n",
    "    \n",
    "    low = min(lst[0],lst[1])\n",
    "    \n",
    "    high_prod2 = lst[0]*lst[1]\n",
    "    low_prod2 = lst[0]*lst[1]\n",
    "    \n",
    "    high_prod3 = lst[0]*lst[1]*lst[2]\n",
    "    \n",
    "    for num in lst[2:]:\n",
    "        \n",
    "        high_prod3 = max(high_prod3, num*high_prod2, num*low_prod2)\n",
    "        high_prod2 = max(high_prod2, num*high, num*low)\n",
    "        \n",
    "        low_prod2 = min(low_prod2, num*high, num*low)\n",
    "        \n",
    "        high = max(high, num)\n",
    "        \n",
    "        low = min(low,num)\n",
    "        \n",
    "    return high_prod3    "
   ]
  },
  {
   "cell_type": "code",
   "execution_count": 222,
   "metadata": {},
   "outputs": [
    {
     "data": {
      "text/plain": [
       "763092"
      ]
     },
     "execution_count": 222,
     "metadata": {},
     "output_type": "execute_result"
    }
   ],
   "source": [
    "l = [99,-82,82,40,75,-24,39, -82, 5, 30, -25, -94, 93, -23, 48, 50, 49,-81,41,63]\n",
    "\n",
    "solution(l)"
   ]
  },
  {
   "cell_type": "markdown",
   "metadata": {},
   "source": [
    "#### 13. Write a function that given a target amount of money and a list of possible coin denominations, returns the number of ways to make change for the target amount using the coin denominations"
   ]
  },
  {
   "cell_type": "code",
   "execution_count": 230,
   "metadata": {},
   "outputs": [],
   "source": [
    "def solution(n, coins):\n",
    "    \n",
    "    arr = [1] +[0]*n\n",
    "    \n",
    "    for coin in coins:\n",
    "        for i in range(coin, n+1):\n",
    "            arr[i] += arr[i-coin]\n",
    "            \n",
    "    if n == 0:\n",
    "        return 0\n",
    "    else:\n",
    "        return arr[n]"
   ]
  },
  {
   "cell_type": "code",
   "execution_count": 231,
   "metadata": {},
   "outputs": [
    {
     "data": {
      "text/plain": [
       "884"
      ]
     },
     "execution_count": 231,
     "metadata": {},
     "output_type": "execute_result"
    }
   ],
   "source": [
    "solution(100, [1, 2, 3])"
   ]
  },
  {
   "cell_type": "markdown",
   "metadata": {},
   "source": [
    "#### 14. Given a binary tree, check whether it’s a binary search tree or not."
   ]
  },
  {
   "cell_type": "code",
   "execution_count": 227,
   "metadata": {},
   "outputs": [],
   "source": [
    "class Node: \n",
    "    def __init__(self, val=None): \n",
    "        self.left, self.right, self.val = None, None, val   \n",
    "        \n",
    "INFINITY = float(\"infinity\") \n",
    "NEG_INFINITY = float(\"-infinity\") \n",
    "\n",
    "\n",
    "\n",
    "def isBST2(tree, lastNode=[NEG_INFINITY]): \n",
    "    \n",
    "    if tree is None: \n",
    "        return True   \n",
    "    \n",
    "    if not isBST2(tree.left, lastNode):\n",
    "        return False   \n",
    "    \n",
    "    if tree.val < lastNode[0]: \n",
    "        return False   \n",
    "    \n",
    "    lastNode[0]=tree.val   \n",
    "    \n",
    "    return isBST2(tree.right, lastNode)"
   ]
  },
  {
   "cell_type": "markdown",
   "metadata": {},
   "source": [
    "#### Given a 2D array find the overlap of 0 or 1. return thr coord of corner\n"
   ]
  },
  {
   "cell_type": "code",
   "execution_count": 1,
   "metadata": {},
   "outputs": [
    {
     "name": "stdout",
     "output_type": "stream",
     "text": [
      "[((0, 3), (0, 5), (3, 3), (3, 5))]\n"
     ]
    }
   ],
   "source": [
    "from collections import defaultdict\n",
    "from itertools import combinations\n",
    "\n",
    "arr = [\n",
    "    [0, 0, 0, 1, 0, 1, 0],\n",
    "    [0, 0, 0, 0, 0, 0, 0],\n",
    "    [0, 1, 0, 0, 0, 0, 0],\n",
    "    [1, 0, 0, 1, 0, 1, 0],\n",
    "    [0, 0, 0, 0, 0, 0, 0],\n",
    "    [0, 0, 0, 1, 0, 0, 1]\n",
    "]\n",
    "\n",
    "# List corner coords\n",
    "result = []\n",
    "\n",
    "# Dict {x: set(y1, y2, ...)} of 1s in processed rows\n",
    "d = defaultdict(set)\n",
    "\n",
    "for y, row in enumerate(arr):\n",
    "    # Find indexes of 1 from current row\n",
    "    coords = [i for i, x in enumerate(row) if x]\n",
    "\n",
    "    # Move to next row if less than two points\n",
    "    if len(coords) < 2:\n",
    "        continue\n",
    "\n",
    "    # For every pair on this row find all pairs on previous rows\n",
    "    for left, right in combinations(coords, 2):\n",
    "        for top in d[left] & d[right]:\n",
    "            result.append(((top, left), (top, right), (y, left), (y, right)))\n",
    "\n",
    "    # Add coordinates on this row to processed rows\n",
    "    for x in coords:\n",
    "        d[x].add(y)\n",
    "\n",
    "print(result)"
   ]
  },
  {
   "cell_type": "code",
   "execution_count": null,
   "metadata": {},
   "outputs": [],
   "source": []
  }
 ],
 "metadata": {
  "kernelspec": {
   "display_name": "Python 3",
   "language": "python",
   "name": "python3"
  },
  "language_info": {
   "codemirror_mode": {
    "name": "ipython",
    "version": 3
   },
   "file_extension": ".py",
   "mimetype": "text/x-python",
   "name": "python",
   "nbconvert_exporter": "python",
   "pygments_lexer": "ipython3",
   "version": "3.6.5"
  }
 },
 "nbformat": 4,
 "nbformat_minor": 2
}
