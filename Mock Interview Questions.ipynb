{
 "cells": [
  {
   "cell_type": "markdown",
   "metadata": {},
   "source": [
    "#### 1. Remove Duplicate"
   ]
  },
  {
   "cell_type": "code",
   "execution_count": 44,
   "metadata": {},
   "outputs": [],
   "source": [
    "def removeDuplicates(s):\n",
    "    results = []\n",
    "    seen = set()\n",
    "    \n",
    "    for char in s:\n",
    "        if char not in seen:\n",
    "            seen.add(char)\n",
    "            results.append(char)\n",
    "    \n",
    "    return ''.join(results)"
   ]
  },
  {
   "cell_type": "code",
   "execution_count": 45,
   "metadata": {},
   "outputs": [],
   "source": [
    "s = 'CCAATT'"
   ]
  },
  {
   "cell_type": "code",
   "execution_count": 46,
   "metadata": {},
   "outputs": [
    {
     "name": "stdout",
     "output_type": "stream",
     "text": [
      "CAT\n"
     ]
    }
   ],
   "source": [
    "print(removeDuplicates(string))"
   ]
  },
  {
   "cell_type": "markdown",
   "metadata": {},
   "source": [
    "#### Duplicate Files\n",
    "Function that returns a list of all the duplicate files. "
   ]
  },
  {
   "cell_type": "code",
   "execution_count": 4,
   "metadata": {},
   "outputs": [],
   "source": [
    "import os\n",
    "import hashlib\n",
    "\n",
    "def find_duplicate_files(starting_directory):\n",
    "    files_seen_already = {}\n",
    "    stack = [starting_directory]\n",
    "    duplicates = []\n",
    "    \n",
    "    while len(stack):\n",
    "        current_path = stack.pop()\n",
    "        if os.path.isdir(current_path):\n",
    "            full_path + os.path.join(current_path, path)\n",
    "            stack.append(full_path)\n",
    "            \n",
    "        else:\n",
    "            file_hash = sample_hash_file(current_path)\n",
    "            \n",
    "            current_last_edited_time = os.path.getmtime(current_path)\n",
    "            \n",
    "            if file_has in files_seen_already:\n",
    "                existing_last_edited_time, existing = files_seen_already[file_hash]\n",
    "                if current_last_edited_time > existing_last_edited_time:\n",
    "                    duplicates.append((current_path, existing_path))\n",
    "                    \n",
    "                else:\n",
    "                    duplicates.append((existing_path, current_path))\n",
    "                    files_seen_already[file_hash] = (current_last_edited_time, current_path)\n",
    "                    \n",
    "    return duplicates\n",
    "    \n",
    "    \n",
    "def sample_hash_file(path):\n",
    "    num_bytes_to_read_per_sample = 4000\n",
    "    total_bytes = os.path.getsize(path)\n",
    "    hasher = hashlib.sha512()\n",
    "    \n",
    "    with op(path, 'rb') as file:\n",
    "        if total_bytes < num_bytes_to_read_per_sample * 3:\n",
    "            hasher.update(file.read())\n",
    "            \n",
    "        else:\n",
    "            num_bytes_between_sample = ((total_bytes - num_bytes_to_read_per_sample * 3) // 2 )\n",
    "            \n",
    "            \n",
    "            for offset_multipler in range(3):\n",
    "                start_of_sample = (offset_multiplier * ( num_bytes_to_read_per_sample + num_bytes_between_samples))\n",
    "                \n",
    "                file.seek(start_of_sample)\n",
    "                sample = file.read(num_bytes_to_read_per_sample)\n",
    "                hasher.update(sample)\n",
    "                \n",
    "    return hasher.hexdigest()\n",
    "    "
   ]
  },
  {
   "cell_type": "markdown",
   "metadata": {},
   "source": [
    "#### Find a duplicate, Space Edition™.\n",
    "Write a function which finds an integer that appears more than once in our list. (If there are multiple duplicates, you only need to find one of them.)\n",
    "So we need to optimize for space!\n",
    "\n",
    "O(1) space and O(lgn) time."
   ]
  },
  {
   "cell_type": "code",
   "execution_count": 11,
   "metadata": {},
   "outputs": [],
   "source": [
    "def find_repeat(the_list):\n",
    "\n",
    "    # Find a number that appears more than once\n",
    "    floor = 1\n",
    "    ceiling = len(the_list) - 1\n",
    "    \n",
    "    while floor < ceiling:\n",
    "        midpoint = floor + ((ceiling - floor) // 2)\n",
    "        lower_range_floor, lower_range_ceiling = floor, midpoint\n",
    "        upper_range_floor, upper_range_ceiling = midpoint+1, ceiling\n",
    "        \n",
    "        items_in_lower_range = 0\n",
    "        for items in the_list:\n",
    "            if items >= lower_range_floor and items <= lower_range_ceiling:\n",
    "                items_in_lower_range += 1\n",
    "                \n",
    "        distinct_possible_integers_in_lower_range = (lower_range_ceiling - lower_range_floor + 1)\n",
    "        \n",
    "        if items_in_lower_range > distinct_possible_integers_in_lower_range:\n",
    "            floor, ceiling = lower_range_floor , lower_range_ceiling\n",
    "            \n",
    "        else:\n",
    "            floor, ceiling = upper_range_floor, upper_range_ceiling\n",
    "            \n",
    "    \n",
    "\n",
    "    return floor"
   ]
  },
  {
   "cell_type": "code",
   "execution_count": 14,
   "metadata": {},
   "outputs": [
    {
     "data": {
      "text/plain": [
       "5"
      ]
     },
     "execution_count": 14,
     "metadata": {},
     "output_type": "execute_result"
    }
   ],
   "source": [
    "find_repeat([1, 2, 5, 5, 5, 5])"
   ]
  },
  {
   "cell_type": "code",
   "execution_count": 15,
   "metadata": {},
   "outputs": [
    {
     "data": {
      "text/plain": [
       "4"
      ]
     },
     "execution_count": 15,
     "metadata": {},
     "output_type": "execute_result"
    }
   ],
   "source": [
    " find_repeat([4, 1, 4, 8, 3, 2, 7, 6, 5])"
   ]
  },
  {
   "cell_type": "markdown",
   "metadata": {},
   "source": [
    "#### Find a duplicate, Space Edition™ BEAST MODE\n",
    "We can find a duplicate integer in O(n)time while keeping our space cost at O(1)"
   ]
  },
  {
   "cell_type": "code",
   "execution_count": 18,
   "metadata": {},
   "outputs": [],
   "source": [
    "def find_duplicate(int_list):\n",
    "\n",
    "    # Find a number that appears more than once ... in O(n) time\n",
    "    \n",
    "    n = len(int_list) - 1\n",
    "\n",
    "   \n",
    "    position_in_cycle = n + 1\n",
    "    for _ in range(n):\n",
    "        position_in_cycle = int_list[position_in_cycle - 1]\n",
    "\n",
    "    remembered_position_in_cycle = position_in_cycle\n",
    "    current_position_in_cycle = int_list[position_in_cycle - 1]  \n",
    "    cycle_step_count = 1\n",
    "\n",
    "    while current_position_in_cycle != remembered_position_in_cycle:\n",
    "        current_position_in_cycle = int_list[current_position_in_cycle - 1]\n",
    "        cycle_step_count += 1\n",
    "\n",
    "  \n",
    "    pointer_start = n + 1\n",
    "    pointer_ahead = n + 1\n",
    "    for _ in range(cycle_step_count):\n",
    "        pointer_ahead = int_list[pointer_ahead - 1]\n",
    "\n",
    "  \n",
    "    while pointer_start != pointer_ahead:\n",
    "        pointer_start = int_list[pointer_start - 1]\n",
    "        pointer_ahead = int_list[pointer_ahead - 1]\n",
    "\n",
    "    \n",
    "    return pointer_start\n"
   ]
  },
  {
   "cell_type": "code",
   "execution_count": 19,
   "metadata": {},
   "outputs": [
    {
     "data": {
      "text/plain": [
       "4"
      ]
     },
     "execution_count": 19,
     "metadata": {},
     "output_type": "execute_result"
    }
   ],
   "source": [
    "find_duplicate([4, 1, 4, 8, 3, 2, 7, 6, 5])"
   ]
  },
  {
   "cell_type": "code",
   "execution_count": 20,
   "metadata": {},
   "outputs": [
    {
     "data": {
      "text/plain": [
       "2"
      ]
     },
     "execution_count": 20,
     "metadata": {},
     "output_type": "execute_result"
    }
   ],
   "source": [
    "find_duplicate([1, 2, 3, 2])"
   ]
  },
  {
   "cell_type": "markdown",
   "metadata": {},
   "source": [
    "#### 2. Given a List of integers and a target number return a boolean (or the actual integers) indicating its possible to sum two int from the list to reach target number"
   ]
  },
  {
   "cell_type": "code",
   "execution_count": null,
   "metadata": {},
   "outputs": [],
   "source": [
    "def sum_pairs(ints, s):\n",
    "    seen = set()\n",
    "    \n",
    "    for num in ints:\n",
    "        num2 = s - num\n",
    "        \n",
    "        if num2 in seen:\n",
    "            return [num2, num ]   # actual int: return num2, num\n",
    "        \n",
    "        seen.add(num)\n",
    "        \n",
    "    return None\n",
    "    "
   ]
  },
  {
   "cell_type": "code",
   "execution_count": 16,
   "metadata": {},
   "outputs": [],
   "source": [
    "l1= [1, 4, 8, 7, 3, 15]\n",
    "l2= [1, -2, 3, 0, -6, 1]\n",
    "l3= [20, -13, 40]\n",
    "l4= [1, 2, 3, 4, 1, 0]\n",
    "l5= [10, 5, 2, 3, 7, 5]\n",
    "l6= [4, -2, 3, 3, 4]\n",
    "l7= [0, 2, 0]\n",
    "l8= [5, 9, 13, -3]"
   ]
  },
  {
   "cell_type": "code",
   "execution_count": 17,
   "metadata": {},
   "outputs": [],
   "source": [
    "sum_pairs(l3, -7)"
   ]
  },
  {
   "cell_type": "markdown",
   "metadata": {},
   "source": [
    "#### 3. Given a list of account ID numbers(integers) which contains duplicates, find the one unique interger (non-duplicate)\n",
    "\n",
    "O(n) time, and O(1) space."
   ]
  },
  {
   "cell_type": "code",
   "execution_count": 93,
   "metadata": {},
   "outputs": [],
   "source": [
    "def find_dupes (id_lst):\n",
    "    unique_id = 0\n",
    "    \n",
    "    for i in id_lst:\n",
    "        unique_id ^= i\n",
    "        \n",
    "    return unique_id\n",
    "    "
   ]
  },
  {
   "cell_type": "code",
   "execution_count": 96,
   "metadata": {},
   "outputs": [],
   "source": [
    "id_lst = [1,2,3,2,1,]"
   ]
  },
  {
   "cell_type": "code",
   "execution_count": 97,
   "metadata": {},
   "outputs": [
    {
     "data": {
      "text/plain": [
       "3"
      ]
     },
     "execution_count": 97,
     "metadata": {},
     "output_type": "execute_result"
    }
   ],
   "source": [
    "solution(id_lst)"
   ]
  },
  {
   "cell_type": "markdown",
   "metadata": {},
   "source": [
    "#### 4. take in a unsorted list of prices and a Max value and return a sorted list of prices"
   ]
  },
  {
   "cell_type": "code",
   "execution_count": 100,
   "metadata": {},
   "outputs": [],
   "source": [
    "def solution(unsorted_price, max_price):\n",
    "    \n",
    "    prices_to_counts = [0] *(max_price+1)\n",
    "    \n",
    "    for price in unsorted_prices:\n",
    "        prices_to_counts[price] += 1\n",
    "        \n",
    "    sorted_prices = []\n",
    "    \n",
    "    for price,count in enumerate(prices_to_counts):\n",
    "        for time in range(count):\n",
    "            sorted_prices.append(prices)\n",
    "            \n",
    "    return sorted_prices"
   ]
  },
  {
   "cell_type": "markdown",
   "metadata": {},
   "source": [
    "#### 5. write a function that compute the Nth fibonacci number"
   ]
  },
  {
   "cell_type": "code",
   "execution_count": 131,
   "metadata": {},
   "outputs": [],
   "source": [
    "def fib_nth(n):\n",
    "    if n == 0 or n == 1:\n",
    "        return 1\n",
    "    return fib_nth(n-1) + fib_nth(n-2)"
   ]
  },
  {
   "cell_type": "code",
   "execution_count": 132,
   "metadata": {},
   "outputs": [
    {
     "data": {
      "text/plain": [
       "34"
      ]
     },
     "execution_count": 132,
     "metadata": {},
     "output_type": "execute_result"
    }
   ],
   "source": [
    "fib_nth(8)"
   ]
  },
  {
   "cell_type": "code",
   "execution_count": 133,
   "metadata": {},
   "outputs": [],
   "source": [
    "def fib(n):\n",
    "    a,b = 1,0\n",
    "    for i in range(n-1):\n",
    "        a,b = b,a+b\n",
    "    return a"
   ]
  },
  {
   "cell_type": "code",
   "execution_count": 134,
   "metadata": {},
   "outputs": [
    {
     "data": {
      "text/plain": [
       "34"
      ]
     },
     "execution_count": 134,
     "metadata": {},
     "output_type": "execute_result"
    }
   ],
   "source": [
    "fib_nth(8)"
   ]
  },
  {
   "cell_type": "code",
   "execution_count": null,
   "metadata": {},
   "outputs": [],
   "source": []
  },
  {
   "cell_type": "markdown",
   "metadata": {},
   "source": [
    "#### 6. Given a dice that rolls 1 to 7 simulate a 5 sided dice\n",
    "\n",
    " O(∞) time  O(1) Space Complexity\n",
    "    \n",
    "    "
   ]
  },
  {
   "cell_type": "code",
   "execution_count": 137,
   "metadata": {},
   "outputs": [],
   "source": [
    "from random import randint\n",
    "\n",
    "def dice7():\n",
    "    return randint(1,7)\n",
    "def convert7to5():\n",
    "    roll = 7\n",
    "    while roll >5:\n",
    "        roll = dice7()\n",
    "    return roll"
   ]
  },
  {
   "cell_type": "code",
   "execution_count": 145,
   "metadata": {},
   "outputs": [
    {
     "data": {
      "text/plain": [
       "2"
      ]
     },
     "execution_count": 145,
     "metadata": {},
     "output_type": "execute_result"
    }
   ],
   "source": [
    "convert7to5()"
   ]
  },
  {
   "cell_type": "code",
   "execution_count": 18,
   "metadata": {},
   "outputs": [],
   "source": [
    "#Recursive convert7to5()  is  O(∞)time   O(∞)Space Complexity\n",
    "\n",
    "from random import randint\n",
    "\n",
    "def dice7():\n",
    "    return randint(1,7)\n",
    "def convert7to5():\n",
    "    roll = dice7()\n",
    "    return roll if roll <= 5 else convert7to5()\n"
   ]
  },
  {
   "cell_type": "code",
   "execution_count": 19,
   "metadata": {},
   "outputs": [
    {
     "data": {
      "text/plain": [
       "5"
      ]
     },
     "execution_count": 19,
     "metadata": {},
     "output_type": "execute_result"
    }
   ],
   "source": [
    "convert7to5()"
   ]
  },
  {
   "cell_type": "markdown",
   "metadata": {},
   "source": [
    "#### 7. Given a dice that rolls 1 to 5 simulate a 7 sided dice\n",
    "\n",
    "O(∞) time O(1) Space Complexity"
   ]
  },
  {
   "cell_type": "code",
   "execution_count": 160,
   "metadata": {},
   "outputs": [],
   "source": [
    "from random import randint\n",
    "\n",
    "def dice5():\n",
    "    return randint(1,5)\n",
    "\n",
    "def convert5to7():\n",
    "    while True:\n",
    "        roll_1 = dice5()\n",
    "        roll_2 = dice5()\n",
    "        \n",
    "        num = ((roll_1 -1) * 5 ) + (roll_2)\n",
    "        \n",
    "        if num > 21:\n",
    "            continue\n",
    "            \n",
    "        return num %7 + 1"
   ]
  },
  {
   "cell_type": "code",
   "execution_count": 161,
   "metadata": {},
   "outputs": [
    {
     "data": {
      "text/plain": [
       "2"
      ]
     },
     "execution_count": 161,
     "metadata": {},
     "output_type": "execute_result"
    }
   ],
   "source": [
    "convert5to7()"
   ]
  },
  {
   "cell_type": "markdown",
   "metadata": {},
   "source": [
    "#### 7. Given a string write a recursive to reverse it"
   ]
  },
  {
   "cell_type": "code",
   "execution_count": 172,
   "metadata": {},
   "outputs": [],
   "source": [
    "def reverse(s):\n",
    "    if len(s) == 1:\n",
    "        return s\n",
    "    return reverse(s[1:]) + s[0]"
   ]
  },
  {
   "cell_type": "code",
   "execution_count": 173,
   "metadata": {},
   "outputs": [
    {
     "data": {
      "text/plain": [
       "'scotty'"
      ]
     },
     "execution_count": 173,
     "metadata": {},
     "output_type": "execute_result"
    }
   ],
   "source": [
    "reverse('yttocs')"
   ]
  },
  {
   "cell_type": "markdown",
   "metadata": {},
   "source": [
    "#### 7A. Reverse a List of Charactors"
   ]
  },
  {
   "cell_type": "code",
   "execution_count": 34,
   "metadata": {},
   "outputs": [],
   "source": [
    "def reverse(list_of_chars):\n",
    "    left_index = 0\n",
    "    right_index = len(list_of_chars)-1\n",
    "    while left_index < right_index:\n",
    "        list_of_chars[left_index], list_of_chars[right_index] = list_of_chars[right_index], list_of_chars[left_index]\n",
    "        left_index +=1\n",
    "        right_index -= 1\n",
    "    return list_of_chars"
   ]
  },
  {
   "cell_type": "code",
   "execution_count": 36,
   "metadata": {},
   "outputs": [
    {
     "name": "stdout",
     "output_type": "stream",
     "text": [
      "['S', 'c', '0', 't', 't', 'y']\n"
     ]
    }
   ],
   "source": [
    "list_of_chars = ['y', 't', 't', '0', 'c', 'S']\n",
    "print(reverse(list_of_chars))"
   ]
  },
  {
   "cell_type": "markdown",
   "metadata": {},
   "source": [
    "#### Reverse Words"
   ]
  },
  {
   "cell_type": "code",
   "execution_count": 73,
   "metadata": {},
   "outputs": [],
   "source": [
    "def reverse_words(message):\n",
    "\n",
    "    reverse_characters(message, 0, len(message)-1)\n",
    "    \n",
    "    current_word_start_index = 0\n",
    "    \n",
    "    for i in range(len(message)+1):\n",
    "        if (i == len(message)) or (message[i] == ' '):\n",
    "            reverse_characters(message, current_word_start_index, i-1)\n",
    "            current_word_start_index = i+1\n",
    "            \n",
    "    return message\n",
    "            \n",
    "\n",
    "def reverse_characters(message, left_index, right_index):\n",
    "    \n",
    "    while left_index < right_index:\n",
    "        message[left_index], message[right_index] = message[right_index], message[left_index]\n",
    "        \n",
    "        left_index +=1\n",
    "        right_index -=1\n",
    "        "
   ]
  },
  {
   "cell_type": "code",
   "execution_count": 74,
   "metadata": {},
   "outputs": [
    {
     "name": "stdout",
     "output_type": "stream",
     "text": [
      "['t', 'h', 'e', ' ', 'c', 'a', 't', ' ', 'a', 't', 'e', ' ', 't', 'h', 'e', ' ', 'r', 'a', 't']\n"
     ]
    }
   ],
   "source": [
    "message = list('rat the ate cat the')\n",
    "print(reverse_words(message))"
   ]
  },
  {
   "cell_type": "markdown",
   "metadata": {},
   "source": [
    "#### 8. Find the Sqaure root of a given number and round it down to the nearest integer. Do not use any sqrt function"
   ]
  },
  {
   "cell_type": "code",
   "execution_count": 179,
   "metadata": {},
   "outputs": [],
   "source": [
    "def solution(num):\n",
    "    if num<0:\n",
    "        return ValueError\n",
    "    \n",
    "    if num == 1:\n",
    "        return 1\n",
    "    \n",
    "    for k in range((num//2)+1):\n",
    "        if k**2 == num:\n",
    "            return k\n",
    "        elif k**2 > num:\n",
    "            return k - 1\n",
    "        \n",
    "    return k"
   ]
  },
  {
   "cell_type": "code",
   "execution_count": 181,
   "metadata": {},
   "outputs": [
    {
     "data": {
      "text/plain": [
       "4"
      ]
     },
     "execution_count": 181,
     "metadata": {},
     "output_type": "execute_result"
    }
   ],
   "source": [
    "solution(16)"
   ]
  },
  {
   "cell_type": "markdown",
   "metadata": {},
   "source": [
    "#### 9. Egg drop problem"
   ]
  },
  {
   "cell_type": "markdown",
   "metadata": {},
   "source": [
    "Start a 10 then go to 20. basic binary search  \n",
    "Generalize the floors to n.\n",
    " 14\n"
   ]
  },
  {
   "cell_type": "markdown",
   "metadata": {},
   "source": [
    "##### Given 2 rectangles as Dics determine if they overlaps\n",
    "O(1) time and O(1) space."
   ]
  },
  {
   "cell_type": "code",
   "execution_count": 78,
   "metadata": {},
   "outputs": [],
   "source": [
    "  def find_range_overlap(point1, length1, point2, length2):\n",
    "    # Find the highest start point and lowest end point.\n",
    "    # The highest (\"rightmost\" or \"upmost\") start point is\n",
    "    # the start point of the overlap.\n",
    "    # The lowest end point is the end point of the overlap.\n",
    "    highest_start_point = max(point1, point2)\n",
    "    lowest_end_point = min(point1 + length1, point2 + length2)\n",
    "\n",
    "    # Return null overlap if there is no overlap\n",
    "    if highest_start_point >= lowest_end_point:\n",
    "        return (None, None)\n",
    "\n",
    "    # Compute the overlap length\n",
    "    overlap_length = lowest_end_point - highest_start_point\n",
    "\n",
    "    return (highest_start_point, overlap_length)\n",
    "\n",
    "\n",
    "def find_rectangular_overlap(rect1, rect2):\n",
    "    # Get the x and y overlap points and lengths\n",
    "    x_overlap_point, overlap_width  = find_range_overlap(rect1['left_x'],\n",
    "                                                         rect1['width'],\n",
    "                                                         rect2['left_x'],\n",
    "                                                         rect2['width'])\n",
    "    y_overlap_point, overlap_height = find_range_overlap(rect1['bottom_y'],\n",
    "                                                         rect1['height'],\n",
    "                                                         rect2['bottom_y'],\n",
    "                                                         rect2['height'])\n",
    "\n",
    "    # Return null rectangle if there is no overlap\n",
    "    if not overlap_width or not overlap_height:\n",
    "        return {\n",
    "            'left_x'   : None,\n",
    "            'bottom_y' : None,\n",
    "            'width'    : None,\n",
    "            'height'   : None,\n",
    "        }\n",
    "\n",
    "    return {\n",
    "        'left_x'   : x_overlap_point,\n",
    "        'bottom_y' : y_overlap_point,\n",
    "        'width'    : overlap_width,\n",
    "        'height'   : overlap_height,\n",
    "    }"
   ]
  },
  {
   "cell_type": "code",
   "execution_count": 79,
   "metadata": {},
   "outputs": [],
   "source": [
    "rect1 = {\n",
    "            'left_x': 1,\n",
    "            'bottom_y': 1,\n",
    "            'width': 6,\n",
    "            'height': 3,\n",
    "        }\n",
    "\n",
    "rect2 = {\n",
    "            'left_x': 5,\n",
    "            'bottom_y': 2,\n",
    "            'width': 3,\n",
    "            'height': 6,\n",
    "        }\n",
    "        "
   ]
  },
  {
   "cell_type": "code",
   "execution_count": 80,
   "metadata": {},
   "outputs": [
    {
     "data": {
      "text/plain": [
       "{'left_x': 5, 'bottom_y': 2, 'width': 2, 'height': 2}"
      ]
     },
     "execution_count": 80,
     "metadata": {},
     "output_type": "execute_result"
    }
   ],
   "source": [
    " find_rectangular_overlap(rect1,rect2)"
   ]
  },
  {
   "cell_type": "markdown",
   "metadata": {},
   "source": [
    "#### 11. Given a list of integers return a list in which each index the element wil be the product of all integers except fot the element at that index"
   ]
  },
  {
   "cell_type": "code",
   "execution_count": 201,
   "metadata": {},
   "outputs": [],
   "source": [
    "def index_prod(lst):\n",
    "    output = [None] * len(lst)\n",
    "    \n",
    "    product = 1\n",
    "    i = 0\n",
    "    while i < len(lst):\n",
    "        output[i] = product\n",
    "        product *= lst[i]\n",
    "        i += 1\n",
    "   \n",
    "\n",
    "    product = 1\n",
    "    i = len(lst) - 1\n",
    "    while i >= 0:\n",
    "        output[i] *= product\n",
    "        product *= lst[i]\n",
    "        \n",
    "        i -= 1\n",
    "       \n",
    "    return output"
   ]
  },
  {
   "cell_type": "code",
   "execution_count": 202,
   "metadata": {},
   "outputs": [
    {
     "data": {
      "text/plain": [
       "[120, 60, 40, 30, 24]"
      ]
     },
     "execution_count": 202,
     "metadata": {},
     "output_type": "execute_result"
    }
   ],
   "source": [
    "index_prod([1,2,3,4,5])"
   ]
  },
  {
   "cell_type": "markdown",
   "metadata": {},
   "source": [
    "#### You have a list of integers, and for each index you want to find the product of every integer except the integer at that index."
   ]
  },
  {
   "cell_type": "code",
   "execution_count": 59,
   "metadata": {},
   "outputs": [],
   "source": [
    "def get_products_of_all_ints_except_at_index(int_list):\n",
    "    if len(int_list) < 2:\n",
    "        raise IndexError('Getting the product of numbers at other '\n",
    "                         'indices requires at least 2 numbers')\n",
    "\n",
    "    products_of_all_ints_except_at_index = [None] * len(int_list)\n",
    "\n",
    "    product_so_far = 1\n",
    "    for i in range(len(int_list)):\n",
    "        products_of_all_ints_except_at_index[i] = product_so_far\n",
    "        product_so_far *= int_list[i]\n",
    "\n",
    "    product_so_far = 1\n",
    "    for i in range(len(int_list) - 1, -1, -1):\n",
    "        products_of_all_ints_except_at_index[i] *= product_so_far\n",
    "        product_so_far *= int_list[i]\n",
    "\n",
    "    return products_of_all_ints_except_at_index\n",
    "\n",
    "\n"
   ]
  },
  {
   "cell_type": "code",
   "execution_count": 60,
   "metadata": {},
   "outputs": [
    {
     "data": {
      "text/plain": [
       "[6, 3, 2]"
      ]
     },
     "execution_count": 60,
     "metadata": {},
     "output_type": "execute_result"
    }
   ],
   "source": [
    "get_products_of_all_ints_except_at_index([1, 2, 3])"
   ]
  },
  {
   "cell_type": "code",
   "execution_count": 61,
   "metadata": {},
   "outputs": [
    {
     "ename": "IndexError",
     "evalue": "Getting the product of numbers at other indices requires at least 2 numbers",
     "output_type": "error",
     "traceback": [
      "\u001b[0;31m---------------------------------------------------------------------------\u001b[0m",
      "\u001b[0;31mIndexError\u001b[0m                                Traceback (most recent call last)",
      "\u001b[0;32m<ipython-input-61-1aec4fa23a35>\u001b[0m in \u001b[0;36m<module>\u001b[0;34m()\u001b[0m\n\u001b[0;32m----> 1\u001b[0;31m \u001b[0mget_products_of_all_ints_except_at_index\u001b[0m\u001b[0;34m(\u001b[0m\u001b[0;34m[\u001b[0m\u001b[0;34m]\u001b[0m\u001b[0;34m)\u001b[0m\u001b[0;34m\u001b[0m\u001b[0m\n\u001b[0m",
      "\u001b[0;32m<ipython-input-59-1946d33943ad>\u001b[0m in \u001b[0;36mget_products_of_all_ints_except_at_index\u001b[0;34m(int_list)\u001b[0m\n\u001b[1;32m      1\u001b[0m \u001b[0;32mdef\u001b[0m \u001b[0mget_products_of_all_ints_except_at_index\u001b[0m\u001b[0;34m(\u001b[0m\u001b[0mint_list\u001b[0m\u001b[0;34m)\u001b[0m\u001b[0;34m:\u001b[0m\u001b[0;34m\u001b[0m\u001b[0m\n\u001b[1;32m      2\u001b[0m     \u001b[0;32mif\u001b[0m \u001b[0mlen\u001b[0m\u001b[0;34m(\u001b[0m\u001b[0mint_list\u001b[0m\u001b[0;34m)\u001b[0m \u001b[0;34m<\u001b[0m \u001b[0;36m2\u001b[0m\u001b[0;34m:\u001b[0m\u001b[0;34m\u001b[0m\u001b[0m\n\u001b[0;32m----> 3\u001b[0;31m         raise IndexError('Getting the product of numbers at other '\n\u001b[0m\u001b[1;32m      4\u001b[0m                          'indices requires at least 2 numbers')\n\u001b[1;32m      5\u001b[0m \u001b[0;34m\u001b[0m\u001b[0m\n",
      "\u001b[0;31mIndexError\u001b[0m: Getting the product of numbers at other indices requires at least 2 numbers"
     ]
    }
   ],
   "source": [
    "get_products_of_all_ints_except_at_index([])"
   ]
  },
  {
   "cell_type": "markdown",
   "metadata": {},
   "source": [
    "#### 12. Given a list of integers, find the largest product you could make from 3 integers in the list"
   ]
  },
  {
   "cell_type": "code",
   "execution_count": 220,
   "metadata": {},
   "outputs": [],
   "source": [
    "def solution(lst):\n",
    "    high = max(lst[0], lst[1])\n",
    "    \n",
    "    low = min(lst[0],lst[1])\n",
    "    \n",
    "    high_prod2 = lst[0]*lst[1]\n",
    "    low_prod2 = lst[0]*lst[1]\n",
    "    \n",
    "    high_prod3 = lst[0]*lst[1]*lst[2]\n",
    "    \n",
    "    for num in lst[2:]:\n",
    "        \n",
    "        high_prod3 = max(high_prod3, num*high_prod2, num*low_prod2)\n",
    "        high_prod2 = max(high_prod2, num*high, num*low)\n",
    "        \n",
    "        low_prod2 = min(low_prod2, num*high, num*low)\n",
    "        \n",
    "        high = max(high, num)\n",
    "        \n",
    "        low = min(low,num)\n",
    "        \n",
    "    return high_prod3    "
   ]
  },
  {
   "cell_type": "code",
   "execution_count": 222,
   "metadata": {},
   "outputs": [
    {
     "data": {
      "text/plain": [
       "763092"
      ]
     },
     "execution_count": 222,
     "metadata": {},
     "output_type": "execute_result"
    }
   ],
   "source": [
    "l = [99,-82,82,40,75,-24,39, -82, 5, 30, -25, -94, 93, -23, 48, 50, 49,-81,41,63]\n",
    "\n",
    "solution(l)"
   ]
  },
  {
   "cell_type": "markdown",
   "metadata": {},
   "source": [
    "#### 13. Write a function that given a target amount of money and a list of possible coin denominations, returns the number of ways to make change for the target amount using the coin denominations"
   ]
  },
  {
   "cell_type": "code",
   "execution_count": 50,
   "metadata": {},
   "outputs": [],
   "source": [
    "def change_possibilities(n, coins):\n",
    "    \n",
    "    #Base Case\n",
    "    if n == 0:\n",
    "        return 0\n",
    "        \n",
    "    arr = [1] +[0]*n\n",
    "    \n",
    "    for coin in coins:\n",
    "        for i in range(coin, n+1):\n",
    "            arr[i] += arr[i-coin]\n",
    "            \n",
    "   \n",
    "    else:\n",
    "        return arr[n]\n"
   ]
  },
  {
   "cell_type": "code",
   "execution_count": 52,
   "metadata": {},
   "outputs": [
    {
     "data": {
      "text/plain": [
       "884"
      ]
     },
     "execution_count": 52,
     "metadata": {},
     "output_type": "execute_result"
    }
   ],
   "source": [
    "change_possibilities(100, [1, 2, 3])"
   ]
  },
  {
   "cell_type": "code",
   "execution_count": 57,
   "metadata": {},
   "outputs": [],
   "source": [
    "def change_possibilities_bottom_up(amount, denominations):\n",
    "    ways_of_doing_n_cents = [0] * (amount + 1)\n",
    "    ways_of_doing_n_cents[0] = 1\n",
    "\n",
    "    for coin in denominations:\n",
    "\n",
    "        for higher_amount in range(coin, amount + 1):\n",
    "            higher_amount_remainder = higher_amount - coin\n",
    "            ways_of_doing_n_cents[higher_amount] += (ways_of_doing_n_cents[higher_amount_remainder])\n",
    "\n",
    "    return ways_of_doing_n_cents[amount]"
   ]
  },
  {
   "cell_type": "code",
   "execution_count": 58,
   "metadata": {},
   "outputs": [
    {
     "data": {
      "text/plain": [
       "884"
      ]
     },
     "execution_count": 58,
     "metadata": {},
     "output_type": "execute_result"
    }
   ],
   "source": [
    "change_possibilities(100, [1, 2, 3])"
   ]
  },
  {
   "cell_type": "markdown",
   "metadata": {},
   "source": [
    "#### 14. Given a binary tree, check whether it’s a binary search tree or not."
   ]
  },
  {
   "cell_type": "code",
   "execution_count": 227,
   "metadata": {},
   "outputs": [],
   "source": [
    "class Node: \n",
    "    def __init__(self, val=None): \n",
    "        self.left, self.right, self.val = None, None, val   \n",
    "        \n",
    "INFINITY = float(\"infinity\") \n",
    "NEG_INFINITY = float(\"-infinity\") \n",
    "\n",
    "\n",
    "\n",
    "def isBST2(tree, lastNode=[NEG_INFINITY]): \n",
    "    \n",
    "    if tree is None: \n",
    "        return True   \n",
    "    \n",
    "    if not isBST2(tree.left, lastNode):\n",
    "        return False   \n",
    "    \n",
    "    if tree.val < lastNode[0]: \n",
    "        return False   \n",
    "    \n",
    "    lastNode[0]=tree.val   \n",
    "    \n",
    "    return isBST2(tree.right, lastNode)"
   ]
  },
  {
   "cell_type": "markdown",
   "metadata": {},
   "source": [
    "#### Given a 2D array find the overlap of 0 or 1. return thr coord of corner\n"
   ]
  },
  {
   "cell_type": "code",
   "execution_count": 1,
   "metadata": {},
   "outputs": [
    {
     "name": "stdout",
     "output_type": "stream",
     "text": [
      "[((0, 3), (0, 5), (3, 3), (3, 5))]\n"
     ]
    }
   ],
   "source": [
    "from collections import defaultdict\n",
    "from itertools import combinations\n",
    "\n",
    "arr = [\n",
    "    [0, 0, 0, 1, 0, 1, 0],\n",
    "    [0, 0, 0, 0, 0, 0, 0],\n",
    "    [0, 1, 0, 0, 0, 0, 0],\n",
    "    [1, 0, 0, 1, 0, 1, 0],\n",
    "    [0, 0, 0, 0, 0, 0, 0],\n",
    "    [0, 0, 0, 1, 0, 0, 1]\n",
    "]\n",
    "\n",
    "# List corner coords\n",
    "result = []\n",
    "\n",
    "# Dict {x: set(y1, y2, ...)} of 1s in processed rows\n",
    "d = defaultdict(set)\n",
    "\n",
    "for y, row in enumerate(arr):\n",
    "    # Find indexes of 1 from current row\n",
    "    coords = [i for i, x in enumerate(row) if x]\n",
    "\n",
    "    # Move to next row if less than two points\n",
    "    if len(coords) < 2:\n",
    "        continue\n",
    "\n",
    "    # For every pair on this row find all pairs on previous rows\n",
    "    for left, right in combinations(coords, 2):\n",
    "        for top in d[left] & d[right]:\n",
    "            result.append(((top, left), (top, right), (y, left), (y, right)))\n",
    "\n",
    "    # Add coordinates on this row to processed rows\n",
    "    for x in coords:\n",
    "        d[x].add(y)\n",
    "\n",
    "print(result)"
   ]
  },
  {
   "cell_type": "markdown",
   "metadata": {},
   "source": [
    "#### Maximum Difference in an integer array\n",
    "\n",
    "O(n)"
   ]
  },
  {
   "cell_type": "code",
   "execution_count": 3,
   "metadata": {},
   "outputs": [
    {
     "name": "stdout",
     "output_type": "stream",
     "text": [
      "(4, 1, 0)\n"
     ]
    }
   ],
   "source": [
    "def find_max_diff(array):\n",
    "    bestj = 1\n",
    "    besti = 0 \n",
    "    max = array[1]-array[0]\n",
    "    \n",
    "    for j in range(len(array)):\n",
    "        for i in range (j):\n",
    "            if array[j]-array[j] > max:\n",
    "                bestj=j\n",
    "                besti=i\n",
    "                \n",
    "    return max, bestj, besti\n",
    "\n",
    "array = [1,5,2,7]\n",
    "\n",
    "print(find_max_diff(array))\n",
    "                \n",
    "            "
   ]
  },
  {
   "cell_type": "markdown",
   "metadata": {},
   "source": [
    "#### Merging 2 Packages\n",
    "Given a package with a weight limit limit and an array arr of item weights, implement a function getIndicesOfItemWeights that finds two items whose sum of weights equals the weight limit limit. Your function should return a pair [i, j] of the indices of the item weights, ordered such that i > j. If such a pair doesn’t exist, return an empty array.\n",
    "\n"
   ]
  },
  {
   "cell_type": "code",
   "execution_count": 1,
   "metadata": {},
   "outputs": [
    {
     "name": "stdout",
     "output_type": "stream",
     "text": [
      "[3, 1]\n"
     ]
    }
   ],
   "source": [
    "def get_indices_of_item_wights(arr, limit):\n",
    "    dic = {}\n",
    "    for i in range(len(arr)):\n",
    "        if (limit - arr[i]) in dic:\n",
    "            return [i, dic[limit - arr[i]]]\n",
    "        else:\n",
    "            dic[arr[i]] = i\n",
    "    return []\n",
    "\n",
    "arr = [4, 6, 10, 15, 16]\n",
    "limit = 21\n",
    "\n",
    "print(get_indices_of_item_wights(arr, limit))"
   ]
  },
  {
   "cell_type": "markdown",
   "metadata": {},
   "source": [
    "#### is a Single Riffle Deck of Cards"
   ]
  },
  {
   "cell_type": "code",
   "execution_count": 75,
   "metadata": {},
   "outputs": [],
   "source": [
    "def is_single_riffle(half1, half2, shuffled_deck):\n",
    "    half1_index = 0\n",
    "    half2_index = 0\n",
    "    half1_max_index = len(half1) - 1\n",
    "    half2_max_index = len(half2) - 1\n",
    "\n",
    "    for card in shuffled_deck:\n",
    "      \n",
    "        if half1_index <= half1_max_index and card == half1[half1_index]:\n",
    "            half1_index += 1\n",
    "\n",
    "        elif half2_index <= half2_max_index and card == half2[half2_index]:\n",
    "            half2_index += 1\n",
    "\n",
    "        else:\n",
    "            return False\n",
    "\n",
    "    return True"
   ]
  },
  {
   "cell_type": "code",
   "execution_count": 85,
   "metadata": {},
   "outputs": [
    {
     "data": {
      "text/plain": [
       "True"
      ]
     },
     "execution_count": 85,
     "metadata": {},
     "output_type": "execute_result"
    }
   ],
   "source": [
    "is_single_riffle([], [2, 3, 6], [2, 3, 6])"
   ]
  },
  {
   "cell_type": "code",
   "execution_count": 86,
   "metadata": {},
   "outputs": [
    {
     "data": {
      "text/plain": [
       "False"
      ]
     },
     "execution_count": 86,
     "metadata": {},
     "output_type": "execute_result"
    }
   ],
   "source": [
    "is_single_riffle([1, 5], [2, 3, 6], [1, 2, 3, 5, 6, 8])"
   ]
  },
  {
   "cell_type": "markdown",
   "metadata": {},
   "source": [
    "##### In Place Shuffle\n",
    "\n",
    "O(n) time and O(1)space Complexity"
   ]
  },
  {
   "cell_type": "code",
   "execution_count": 5,
   "metadata": {},
   "outputs": [],
   "source": [
    "import random\n",
    "\n",
    "def get_random(floor, ceiling):\n",
    "    return random.randrange(floor, ceiling + 1)\n",
    "\n",
    "def shuffle(the_list):\n",
    "   \n",
    "    if len(the_list) <= 1:\n",
    "        return the_list\n",
    "\n",
    "    last_index_in_the_list = len(the_list) - 1\n",
    "\n",
    "    for index_we_are_choosing_for in range(0, len(the_list) - 1):\n",
    "\n",
    "        random_choice_index = get_random(index_we_are_choosing_for,\n",
    "                                         last_index_in_the_list)\n",
    "\n",
    "        if random_choice_index != index_we_are_choosing_for:\n",
    "            the_list[index_we_are_choosing_for], the_list[random_choice_index] = \\\n",
    "                the_list[random_choice_index], the_list[index_we_are_choosing_for]\n"
   ]
  },
  {
   "cell_type": "code",
   "execution_count": 6,
   "metadata": {},
   "outputs": [
    {
     "name": "stdout",
     "output_type": "stream",
     "text": [
      "Sample list: [1, 2, 3, 4, 5]\n",
      "Shuffling sample list...\n",
      "[1, 5, 2, 4, 3]\n"
     ]
    }
   ],
   "source": [
    "sample_list = [1, 2, 3, 4, 5]\n",
    "print ('Sample list:', sample_list)\n",
    "\n",
    "print ('Shuffling sample list...')\n",
    "shuffle(sample_list)\n",
    "print (sample_list)"
   ]
  },
  {
   "cell_type": "markdown",
   "metadata": {},
   "source": [
    "#### Can Two Movies fit in a flight"
   ]
  },
  {
   "cell_type": "code",
   "execution_count": 83,
   "metadata": {},
   "outputs": [],
   "source": [
    "def can_two_movies_fill_flight(movie_lengths, flight_length):\n",
    "\n",
    "    # Determine if two movie runtimes add up to the flight length\n",
    "    movie_lengths_seen = set()\n",
    "    \n",
    "    for first_movie_length in movie_lengths:\n",
    "        matching_second_movie_length = flight_length - first_movie_length\n",
    "        if matching_second_movie_length in movie_lengths_seen:\n",
    "            return True\n",
    "            \n",
    "        movie_lengths_seen.add(first_movie_length)\n",
    "\n",
    "    return False\n"
   ]
  },
  {
   "cell_type": "code",
   "execution_count": 84,
   "metadata": {},
   "outputs": [
    {
     "data": {
      "text/plain": [
       "True"
      ]
     },
     "execution_count": 84,
     "metadata": {},
     "output_type": "execute_result"
    }
   ],
   "source": [
    "can_two_movies_fill_flight([1, 2, 3, 4, 5, 6], 7)"
   ]
  },
  {
   "cell_type": "code",
   "execution_count": 87,
   "metadata": {},
   "outputs": [
    {
     "data": {
      "text/plain": [
       "False"
      ]
     },
     "execution_count": 87,
     "metadata": {},
     "output_type": "execute_result"
    }
   ],
   "source": [
    "can_two_movies_fill_flight([2, 4], 1)"
   ]
  },
  {
   "cell_type": "markdown",
   "metadata": {},
   "source": [
    "#### checks whether any permutation of an input string is a palindrome."
   ]
  },
  {
   "cell_type": "code",
   "execution_count": 1,
   "metadata": {},
   "outputs": [],
   "source": [
    "def has_palindrome_permutation(the_string):\n",
    "\n",
    "    # Check if any permutation of the input is a palindrome\n",
    "    unpaired_characters = set()\n",
    "    \n",
    "    for char in the_string:\n",
    "        if char in unpaired_characters:\n",
    "            unpaired_characters.remove(char)\n",
    "            \n",
    "        else:\n",
    "            unpaired_characters.add(char)\n",
    "\n",
    "    return len(unpaired_characters) <= 1\n"
   ]
  },
  {
   "cell_type": "code",
   "execution_count": 2,
   "metadata": {},
   "outputs": [
    {
     "data": {
      "text/plain": [
       "True"
      ]
     },
     "execution_count": 2,
     "metadata": {},
     "output_type": "execute_result"
    }
   ],
   "source": [
    "has_palindrome_permutation('aabcbcd')"
   ]
  },
  {
   "cell_type": "code",
   "execution_count": 3,
   "metadata": {},
   "outputs": [
    {
     "data": {
      "text/plain": [
       "False"
      ]
     },
     "execution_count": 3,
     "metadata": {},
     "output_type": "execute_result"
    }
   ],
   "source": [
    "has_palindrome_permutation('aabcd')"
   ]
  },
  {
   "cell_type": "markdown",
   "metadata": {},
   "source": [
    "### is an anagram"
   ]
  },
  {
   "cell_type": "code",
   "execution_count": 13,
   "metadata": {},
   "outputs": [],
   "source": [
    "from collections import Counter\n",
    "def anagram(s1, s2):\n",
    "    \n",
    "    return Counter(s1) == Counter(s2)"
   ]
  },
  {
   "cell_type": "code",
   "execution_count": 15,
   "metadata": {},
   "outputs": [
    {
     "data": {
      "text/plain": [
       "True"
      ]
     },
     "execution_count": 15,
     "metadata": {},
     "output_type": "execute_result"
    }
   ],
   "source": [
    "anagram('dog', 'god')"
   ]
  },
  {
   "cell_type": "code",
   "execution_count": 16,
   "metadata": {},
   "outputs": [],
   "source": [
    "def anagram(s1,s2):\n",
    "    \n",
    "    s1 = s1.replace(' ','').lower()\n",
    "    s2 = s2.replace(' ','').lower()\n",
    "\n",
    "    \n",
    "    return sorted(s1) == sorted(s2)"
   ]
  },
  {
   "cell_type": "code",
   "execution_count": 17,
   "metadata": {},
   "outputs": [
    {
     "data": {
      "text/plain": [
       "True"
      ]
     },
     "execution_count": 17,
     "metadata": {},
     "output_type": "execute_result"
    }
   ],
   "source": [
    "anagram('clint eastwood', 'old west action')"
   ]
  },
  {
   "cell_type": "code",
   "execution_count": 18,
   "metadata": {},
   "outputs": [],
   "source": [
    "def anagram(s1,s2):\n",
    "    \n",
    "    s1 = s1.replace(' ','').lower()\n",
    "    s2 = s2.replace(' ','').lower()\n",
    "    \n",
    "    #edge case check\n",
    "    if len(s1) != len(s2):\n",
    "        return False\n",
    "    \n",
    "    count = {}\n",
    "    \n",
    "    for letter in s1:\n",
    "        if letter in count:\n",
    "            count[letter] += 1\n",
    "        else:\n",
    "            count[letter] = 1\n",
    "            \n",
    "    for letter in s2:\n",
    "        if letter in count:\n",
    "            count[letter] -= 1\n",
    "        else:\n",
    "            count[letter] = 1\n",
    "            \n",
    "    for k in count:\n",
    "        if count[k] != 0:\n",
    "            return False\n",
    "    return True"
   ]
  },
  {
   "cell_type": "code",
   "execution_count": 19,
   "metadata": {},
   "outputs": [
    {
     "data": {
      "text/plain": [
       "True"
      ]
     },
     "execution_count": 19,
     "metadata": {},
     "output_type": "execute_result"
    }
   ],
   "source": [
    "anagram('Clint eastwood', 'old west action')"
   ]
  },
  {
   "cell_type": "markdown",
   "metadata": {},
   "source": [
    "##### Top Scores\n",
    "Efficiently sort numbers in an array, where each number is below a certain maximum."
   ]
  },
  {
   "cell_type": "code",
   "execution_count": 1,
   "metadata": {},
   "outputs": [],
   "source": [
    "def sort_scores(unsorted_scores, highest_possible_score):\n",
    "\n",
    "    # Sort the scores in O(n) time\n",
    "    score_counts =[0] * (highest_possible_score+1)\n",
    "    \n",
    "    for score in unsorted_scores:\n",
    "        score_counts[score] += 1\n",
    "        \n",
    "    sorted_scores = []\n",
    "    \n",
    "    \n",
    "    for score in range(len(score_counts) -1, -1, -1):\n",
    "        count = score_counts[score]\n",
    "        \n",
    "        for time in range(count):\n",
    "            \n",
    "            sorted_scores.append(score)\n",
    "\n",
    "    return sorted_scores"
   ]
  },
  {
   "cell_type": "code",
   "execution_count": 2,
   "metadata": {},
   "outputs": [
    {
     "data": {
      "text/plain": [
       "[55]"
      ]
     },
     "execution_count": 2,
     "metadata": {},
     "output_type": "execute_result"
    }
   ],
   "source": [
    "sort_scores([55], 100)"
   ]
  },
  {
   "cell_type": "code",
   "execution_count": 3,
   "metadata": {},
   "outputs": [
    {
     "data": {
      "text/plain": [
       "[30, 30, 20, 20, 10, 10]"
      ]
     },
     "execution_count": 3,
     "metadata": {},
     "output_type": "execute_result"
    }
   ],
   "source": [
    "sort_scores([20, 10, 30, 30, 10, 20], 100)"
   ]
  },
  {
   "cell_type": "markdown",
   "metadata": {},
   "source": [
    "### Get Max Stock prices\n",
    "Apple Stocks\n",
    "Figure out the optimal buy and sell time for a given stock, given its prices yesterday."
   ]
  },
  {
   "cell_type": "code",
   "execution_count": 10,
   "metadata": {},
   "outputs": [],
   "source": [
    "def get_max_profit(stock_prices):\n",
    "\n",
    "    # Calculate the max profit\n",
    "    if len(stock_prices) < 2:\n",
    "        raise ValueError('Getting a profit requires at leat 2 prices you idiot!!')\n",
    "        \n",
    "    min_price = stock_prices[0]\n",
    "    max_profit = stock_prices[1] - stock_prices[0]\n",
    "    \n",
    "    for current_time in range(1, len(stock_prices)):\n",
    "        current_price = stock_prices[current_time]\n",
    "        potential_profit = current_price - min_price\n",
    "        max_profit = max(max_profit, potential_profit)\n",
    "        min_price = min(min_price, current_price)\n",
    "        \n",
    "    return max_profit\n"
   ]
  },
  {
   "cell_type": "code",
   "execution_count": 11,
   "metadata": {},
   "outputs": [
    {
     "data": {
      "text/plain": [
       "4"
      ]
     },
     "execution_count": 11,
     "metadata": {},
     "output_type": "execute_result"
    }
   ],
   "source": [
    "get_max_profit([1, 5, 3, 2])"
   ]
  },
  {
   "cell_type": "code",
   "execution_count": 12,
   "metadata": {},
   "outputs": [
    {
     "data": {
      "text/plain": [
       "-2"
      ]
     },
     "execution_count": 12,
     "metadata": {},
     "output_type": "execute_result"
    }
   ],
   "source": [
    "get_max_profit([9, 7, 4, 1])"
   ]
  },
  {
   "cell_type": "code",
   "execution_count": 13,
   "metadata": {},
   "outputs": [
    {
     "ename": "ValueError",
     "evalue": "Getting a profit requires at leat 2 prices you idiot!!",
     "output_type": "error",
     "traceback": [
      "\u001b[0;31m---------------------------------------------------------------------------\u001b[0m",
      "\u001b[0;31mValueError\u001b[0m                                Traceback (most recent call last)",
      "\u001b[0;32m<ipython-input-13-94d678b1a682>\u001b[0m in \u001b[0;36m<module>\u001b[0;34m()\u001b[0m\n\u001b[0;32m----> 1\u001b[0;31m \u001b[0mget_max_profit\u001b[0m\u001b[0;34m(\u001b[0m\u001b[0;34m[\u001b[0m\u001b[0;36m1\u001b[0m\u001b[0;34m]\u001b[0m\u001b[0;34m)\u001b[0m\u001b[0;34m\u001b[0m\u001b[0m\n\u001b[0m",
      "\u001b[0;32m<ipython-input-10-ebc15e590294>\u001b[0m in \u001b[0;36mget_max_profit\u001b[0;34m(stock_prices)\u001b[0m\n\u001b[1;32m      3\u001b[0m     \u001b[0;31m# Calculate the max profit\u001b[0m\u001b[0;34m\u001b[0m\u001b[0;34m\u001b[0m\u001b[0m\n\u001b[1;32m      4\u001b[0m     \u001b[0;32mif\u001b[0m \u001b[0mlen\u001b[0m\u001b[0;34m(\u001b[0m\u001b[0mstock_prices\u001b[0m\u001b[0;34m)\u001b[0m \u001b[0;34m<\u001b[0m \u001b[0;36m2\u001b[0m\u001b[0;34m:\u001b[0m\u001b[0;34m\u001b[0m\u001b[0m\n\u001b[0;32m----> 5\u001b[0;31m         \u001b[0;32mraise\u001b[0m \u001b[0mValueError\u001b[0m\u001b[0;34m(\u001b[0m\u001b[0;34m'Getting a profit requires at leat 2 prices you idiot!!'\u001b[0m\u001b[0;34m)\u001b[0m\u001b[0;34m\u001b[0m\u001b[0m\n\u001b[0m\u001b[1;32m      6\u001b[0m \u001b[0;34m\u001b[0m\u001b[0m\n\u001b[1;32m      7\u001b[0m     \u001b[0mmin_price\u001b[0m \u001b[0;34m=\u001b[0m \u001b[0mstock_prices\u001b[0m\u001b[0;34m[\u001b[0m\u001b[0;36m0\u001b[0m\u001b[0;34m]\u001b[0m\u001b[0;34m\u001b[0m\u001b[0m\n",
      "\u001b[0;31mValueError\u001b[0m: Getting a profit requires at leat 2 prices you idiot!!"
     ]
    }
   ],
   "source": [
    "get_max_profit([1])"
   ]
  },
  {
   "cell_type": "markdown",
   "metadata": {},
   "source": [
    "#### Convert to CamelCase"
   ]
  },
  {
   "cell_type": "code",
   "execution_count": 26,
   "metadata": {},
   "outputs": [],
   "source": [
    "def to_camel_case(text):\n",
    "    return text[0] + ''.join([w[0].upper() + w[1:] for w in text.replace(\"_\", \"-\").split(\"-\")])[1:] if text else ''"
   ]
  },
  {
   "cell_type": "code",
   "execution_count": 28,
   "metadata": {},
   "outputs": [
    {
     "data": {
      "text/plain": [
       "'helloWorld'"
      ]
     },
     "execution_count": 28,
     "metadata": {},
     "output_type": "execute_result"
    }
   ],
   "source": [
    "to_camel_case(\"hello-world\")"
   ]
  },
  {
   "cell_type": "code",
   "execution_count": 31,
   "metadata": {},
   "outputs": [],
   "source": [
    "import re\n",
    "\n",
    "\n",
    "def to_camel_case(s):\n",
    "    pattern = r'(?:\\_|\\-)[a-zA-Z]'\n",
    "    m = re.findall(pattern, s)\n",
    "    new_s = s\n",
    "    for find in m:\n",
    "        new_s = re.sub(find, find[-1].upper(), new_s)\n",
    "    return new_s"
   ]
  },
  {
   "cell_type": "code",
   "execution_count": 33,
   "metadata": {},
   "outputs": [
    {
     "data": {
      "text/plain": [
       "'helloWorld'"
      ]
     },
     "execution_count": 33,
     "metadata": {},
     "output_type": "execute_result"
    }
   ],
   "source": [
    "to_camel_case(\"hello-world\")"
   ]
  },
  {
   "cell_type": "markdown",
   "metadata": {},
   "source": [
    "#### Breaking chocolate problem\n",
    " given dimension n x m into small squares. Each square is of size 1x1 and unbreakable. Implement a function that will return minimum number of breaks needed."
   ]
  },
  {
   "cell_type": "code",
   "execution_count": 34,
   "metadata": {},
   "outputs": [],
   "source": [
    "def breakChocolate(n, m):\n",
    "    return max(n*m-1,0)"
   ]
  },
  {
   "cell_type": "code",
   "execution_count": 35,
   "metadata": {},
   "outputs": [
    {
     "data": {
      "text/plain": [
       "2"
      ]
     },
     "execution_count": 35,
     "metadata": {},
     "output_type": "execute_result"
    }
   ],
   "source": [
    "breakChocolate(3,1)"
   ]
  },
  {
   "cell_type": "markdown",
   "metadata": {},
   "source": [
    "#### Convert  to int to binary"
   ]
  },
  {
   "cell_type": "code",
   "execution_count": 38,
   "metadata": {},
   "outputs": [],
   "source": [
    "def binary_array_to_number(arr):\n",
    "    s = 0\n",
    "    for digit in arr:\n",
    "        s = s * 2 + digit\n",
    "\n",
    "    return s"
   ]
  },
  {
   "cell_type": "code",
   "execution_count": 43,
   "metadata": {},
   "outputs": [
    {
     "data": {
      "text/plain": [
       "42"
      ]
     },
     "execution_count": 43,
     "metadata": {},
     "output_type": "execute_result"
    }
   ],
   "source": [
    "binary_array_to_number([1,0,1,0,1,0])"
   ]
  },
  {
   "cell_type": "markdown",
   "metadata": {},
   "source": [
    "#### Century to year\n",
    "Takes an input year and returns the century Input is in\n",
    "    "
   ]
  },
  {
   "cell_type": "code",
   "execution_count": 44,
   "metadata": {},
   "outputs": [],
   "source": [
    "def century(year):\n",
    "    \n",
    "    return (year + 99) // 100"
   ]
  },
  {
   "cell_type": "code",
   "execution_count": 49,
   "metadata": {},
   "outputs": [
    {
     "data": {
      "text/plain": [
       "20"
      ]
     },
     "execution_count": 49,
     "metadata": {},
     "output_type": "execute_result"
    }
   ],
   "source": [
    "century(1977)"
   ]
  },
  {
   "cell_type": "markdown",
   "metadata": {},
   "source": [
    "#### Product of 3\n",
    "Given a list of integers, find the highest product you can get from three of the integers."
   ]
  },
  {
   "cell_type": "code",
   "execution_count": 52,
   "metadata": {},
   "outputs": [],
   "source": [
    "def highest_product_of_3(list_of_ints):\n",
    "    if len(list_of_ints) < 3:\n",
    "        raise ValueError('Less than 3 items!')\n",
    "\n",
    "\n",
    "    highest = max(list_of_ints[0], list_of_ints[1])\n",
    "    lowest  = min(list_of_ints[0], list_of_ints[1])\n",
    "    highest_product_of_2 = list_of_ints[0] * list_of_ints[1]\n",
    "    lowest_product_of_2  = list_of_ints[0] * list_of_ints[1]\n",
    "    highest_product_of_3 = list_of_ints[0] * list_of_ints[1] * list_of_ints[2]\n",
    "\n",
    "   \n",
    "    for i in range(2, len(list_of_ints)):\n",
    "        current = list_of_ints[i]\n",
    "        highest_product_of_3 = max(highest_product_of_3,current * highest_product_of_2, current * lowest_product_of_2)\n",
    "        highest_product_of_2 = max(highest_product_of_2,current * highest,current * lowest)\n",
    "        lowest_product_of_2 = min(lowest_product_of_2,current * highest,current * lowest)\n",
    "        highest = max(highest, current)\n",
    "        lowest = min(lowest, current)\n",
    "\n",
    "    return highest_product_of_3"
   ]
  },
  {
   "cell_type": "code",
   "execution_count": 53,
   "metadata": {},
   "outputs": [
    {
     "data": {
      "text/plain": [
       "24"
      ]
     },
     "execution_count": 53,
     "metadata": {},
     "output_type": "execute_result"
    }
   ],
   "source": [
    "highest_product_of_3([1, 2, 3, 4])"
   ]
  },
  {
   "cell_type": "code",
   "execution_count": 54,
   "metadata": {},
   "outputs": [
    {
     "data": {
      "text/plain": [
       "300"
      ]
     },
     "execution_count": 54,
     "metadata": {},
     "output_type": "execute_result"
    }
   ],
   "source": [
    "highest_product_of_3([-10, 1, 3, 2, -10])"
   ]
  },
  {
   "cell_type": "markdown",
   "metadata": {},
   "source": [
    "#### Find rotation point\n",
    "Write a function for finding the index of the \"rotation point,\"\n",
    "\n",
    " time complexity O(logN)\n",
    "    O(1) space\n",
    "    "
   ]
  },
  {
   "cell_type": "code",
   "execution_count": null,
   "metadata": {},
   "outputs": [],
   "source": [
    "def find_rotation_point(words):\n",
    "\n",
    "    # Find the rotation point in the list\n",
    "    first_word = words[0]\n",
    "    floor_index = 0\n",
    "    ceiling_index = len(words) - 1\n",
    "    \n",
    "    while floor_index < ceiling_index:\n",
    "        guess_index = floor_index + ((ceiling_index - floor_index) // 2)\n",
    "        \n",
    "        if words[guess_index] >= first_word:\n",
    "            floor_index = guess_index\n",
    "            \n",
    "        else:\n",
    "            ceiling_index = guess_index\n",
    "            \n",
    "        if floor_index + 1 == ceiling_index:\n",
    "            \n",
    "            return ceiling_index\n"
   ]
  },
  {
   "cell_type": "code",
   "execution_count": 8,
   "metadata": {},
   "outputs": [
    {
     "data": {
      "text/plain": [
       "5"
      ]
     },
     "execution_count": 8,
     "metadata": {},
     "output_type": "execute_result"
    }
   ],
   "source": [
    "find_rotation_point(['ptolemaic', 'retrograde', 'supplant',\n",
    "                                      'undulate', 'xenoepist', 'asymptote',\n",
    "                                      'babka', 'banoffee', 'engender',\n",
    "                                      'karpatka', 'othellolagkage'])"
   ]
  },
  {
   "cell_type": "code",
   "execution_count": 9,
   "metadata": {},
   "outputs": [
    {
     "data": {
      "text/plain": [
       "1"
      ]
     },
     "execution_count": 9,
     "metadata": {},
     "output_type": "execute_result"
    }
   ],
   "source": [
    "find_rotation_point(['cape', 'cake'])"
   ]
  },
  {
   "cell_type": "markdown",
   "metadata": {},
   "source": [
    "#### Merged Meetings\n",
    "Write a function merge_ranges() that takes a list of multiple meeting time ranges and returns a list of condensed ranges.\n",
    "\n",
    "O(nlgn) time and O(n)O(n) space"
   ]
  },
  {
   "cell_type": "code",
   "execution_count": 21,
   "metadata": {},
   "outputs": [],
   "source": [
    "def merge_ranges(meetings):\n",
    "\n",
    "    # Merge meeting ranges\n",
    "    sorted_meetings = sorted(meetings)\n",
    "    merged_meetings = [sorted_meetings[0]]\n",
    "    \n",
    "    for current_meeting_start, current_meeting_end in sorted_meetings[1:]:\n",
    "        last_merged_meeting_start, last_merged_meeting_end = merged_meetings[-1]\n",
    "        \n",
    "        if (current_meeting_start <= last_merged_meeting_end):\n",
    "            merged_meetings[-1] = (last_merged_meeting_start, max(last_merged_meeting_end, current_meeting_end))\n",
    "            \n",
    "        else:\n",
    "            merged_meetings.append((current_meeting_start, current_meeting_end))\n",
    "            \n",
    "            \n",
    "    return merged_meetings"
   ]
  },
  {
   "cell_type": "code",
   "execution_count": 22,
   "metadata": {},
   "outputs": [
    {
     "data": {
      "text/plain": [
       "[(5, 8)]"
      ]
     },
     "execution_count": 22,
     "metadata": {},
     "output_type": "execute_result"
    }
   ],
   "source": [
    " merge_ranges([(5, 6), (6, 8)])"
   ]
  },
  {
   "cell_type": "code",
   "execution_count": 23,
   "metadata": {},
   "outputs": [
    {
     "data": {
      "text/plain": [
       "[(1, 12)]"
      ]
     },
     "execution_count": 23,
     "metadata": {},
     "output_type": "execute_result"
    }
   ],
   "source": [
    " merge_ranges([(1, 10), (2, 5), (6, 8), (9, 10), (10, 12)])"
   ]
  },
  {
   "cell_type": "code",
   "execution_count": 24,
   "metadata": {},
   "outputs": [
    {
     "data": {
      "text/plain": [
       "[(0, 1), (3, 8), (9, 12)]"
      ]
     },
     "execution_count": 24,
     "metadata": {},
     "output_type": "execute_result"
    }
   ],
   "source": [
    "merge_ranges([(0, 1), (3, 5), (4, 8), (10, 12), (9, 10)])"
   ]
  },
  {
   "cell_type": "markdown",
   "metadata": {},
   "source": [
    "#### Is Binary Treey Balances\n",
    "Write a function to see if a binary tree is balanced\n",
    "\n",
    "Depth First Search used: gets to the leaves faster\n",
    "    \n",
    "    O(n) time and O(n)space.\n",
    "    "
   ]
  },
  {
   "cell_type": "code",
   "execution_count": 2,
   "metadata": {},
   "outputs": [],
   "source": [
    "def is_balanced(tree_root):\n",
    "\n",
    "    # Determine if the tree is superbalanced\n",
    "    if tree_root is None:\n",
    "        return True\n",
    "        \n",
    "    depths = []\n",
    "    nodes = []\n",
    "    nodes.append((tree_root, 0 ))\n",
    "    \n",
    "    while len(nodes):\n",
    "        node, depth = nodes.pop()\n",
    "        \n",
    "        if (not node.left) and (not node.right):\n",
    "            if depth not in depths:\n",
    "                depths.append(depth)\n",
    "                \n",
    "                if ((len(depths)>2) or (len(depths) == 2 and abs(depths[0] - depths[1]) > 1)):\n",
    "                    return False\n",
    "        else:\n",
    "            if node.left:\n",
    "                nodes.append((node.left, depth + 1))\n",
    "            if node.right:\n",
    "                nodes.append((node.right, depth + 1))\n",
    "                \n",
    "\n",
    "    return True"
   ]
  },
  {
   "cell_type": "code",
   "execution_count": 10,
   "metadata": {},
   "outputs": [],
   "source": [
    "class BinaryTreeNode(object):\n",
    "\n",
    "        def __init__(self, value):\n",
    "            self.value = value\n",
    "            self.left = None\n",
    "            self.right = None\n",
    "\n",
    "        def insert_left(self, value):\n",
    "            self.left = BinaryTreeNode(value)\n",
    "            return self.left\n",
    "\n",
    "        def insert_right(self, value):\n",
    "            self.right = BinaryTreeNode(value)\n",
    "            return self.right"
   ]
  },
  {
   "cell_type": "code",
   "execution_count": 13,
   "metadata": {},
   "outputs": [
    {
     "data": {
      "text/plain": [
       "True"
      ]
     },
     "execution_count": 13,
     "metadata": {},
     "output_type": "execute_result"
    }
   ],
   "source": [
    "tree = BinaryTreeNode(5)\n",
    "tree.insert_left(8)\n",
    "tree.insert_right(6)\n",
    "tree.insert_left(1)\n",
    "tree.insert_right(2)\n",
    "tree.insert_left(3)\n",
    "tree.insert_right(4)\n",
    "is_balanced(tree)"
   ]
  },
  {
   "cell_type": "code",
   "execution_count": 14,
   "metadata": {},
   "outputs": [
    {
     "data": {
      "text/plain": [
       "True"
      ]
     },
     "execution_count": 14,
     "metadata": {},
     "output_type": "execute_result"
    }
   ],
   "source": [
    "tree = BinaryTreeNode(3)\n",
    "tree.insert_left(3)\n",
    "tree.insert_right(4)\n",
    "tree.insert_left(2)\n",
    "tree.insert_right(1)\n",
    "tree.insert_left(9)\n",
    "is_balanced(tree)"
   ]
  },
  {
   "cell_type": "markdown",
   "metadata": {},
   "source": [
    "#### Check if tree is Valid\n",
    "Write a function to check that a binary tree is a valid binary search tree. \n",
    "\n",
    "O(n) time and O(n)space\n"
   ]
  },
  {
   "cell_type": "code",
   "execution_count": 15,
   "metadata": {},
   "outputs": [],
   "source": [
    "#iterative\n",
    "\n",
    "def is_binary_search_tree(root):\n",
    "\n",
    "    # Determine if the tree is a valid binary search tree\n",
    "    node_and_bounds_stack = [(root, -float('inf'), float('inf'))]\n",
    "    \n",
    "    while len(node_and_bounds_stack):\n",
    "        node, lower_bound, upper_bound = node_and_bounds_stack.pop()\n",
    "        \n",
    "        if (node.value <= lower_bound) or (node.value >= upper_bound):\n",
    "            return False\n",
    "            \n",
    "        if node.left:\n",
    "            node_and_bounds_stack.append((node.left, lower_bound, node.value))\n",
    "            \n",
    "        if node.right:\n",
    "            node_and_bounds_stack.append((node.right, node.value, upper_bound))\n",
    "\n",
    "    return True\n"
   ]
  },
  {
   "cell_type": "code",
   "execution_count": 16,
   "metadata": {},
   "outputs": [],
   "source": [
    "#recursive - clean\n",
    "\n",
    "def is_binary_search_tree(root, lower_bound=-float('inf'), upper_bound=float('inf')):\n",
    "    \n",
    "    if not root:\n",
    "        return True\n",
    "        \n",
    "    if (root.value >= upper_bound or root.value <= lower_bound):\n",
    "        return False\n",
    "        \n",
    "    return (is_binary_search_tree(root.left, lower_bound, root.value) and is_binary_search_tree(root.right, root.value, upper_bound))\n",
    "    \n",
    "    "
   ]
  },
  {
   "cell_type": "code",
   "execution_count": 17,
   "metadata": {},
   "outputs": [],
   "source": [
    "class BinaryTreeNode(object):\n",
    "\n",
    "        def __init__(self, value):\n",
    "            self.value = value\n",
    "            self.left = None\n",
    "            self.right = None\n",
    "\n",
    "        def insert_left(self, value):\n",
    "            self.left = BinaryTreeNode(value)\n",
    "            return self.left\n",
    "\n",
    "        def insert_right(self, value):\n",
    "            self.right = BinaryTreeNode(value)\n",
    "            return self.right"
   ]
  },
  {
   "cell_type": "code",
   "execution_count": 19,
   "metadata": {},
   "outputs": [
    {
     "data": {
      "text/plain": [
       "True"
      ]
     },
     "execution_count": 19,
     "metadata": {},
     "output_type": "execute_result"
    }
   ],
   "source": [
    "tree = BinaryTreeNode(50)\n",
    "left = tree.insert_left(30)\n",
    "right = tree.insert_right(70)\n",
    "left.insert_left(10)\n",
    "left.insert_right(40)\n",
    "right.insert_left(60)\n",
    "right.insert_right(80)\n",
    "is_binary_search_tree(tree)"
   ]
  },
  {
   "cell_type": "code",
   "execution_count": 20,
   "metadata": {},
   "outputs": [
    {
     "data": {
      "text/plain": [
       "False"
      ]
     },
     "execution_count": 20,
     "metadata": {},
     "output_type": "execute_result"
    }
   ],
   "source": [
    "tree = BinaryTreeNode(50)\n",
    "left = tree.insert_left(30)\n",
    "right = tree.insert_right(80)\n",
    "left.insert_left(20)\n",
    "left.insert_right(60)\n",
    "right.insert_left(70)\n",
    "right.insert_right(90)\n",
    "is_binary_search_tree(tree)"
   ]
  },
  {
   "cell_type": "markdown",
   "metadata": {},
   "source": [
    "#### Find Largest Element in a BST"
   ]
  },
  {
   "cell_type": "code",
   "execution_count": 27,
   "metadata": {},
   "outputs": [],
   "source": [
    "  def find_largest(root_node):\n",
    "    if root_node.right:\n",
    "        return find_largest(root_node.right)\n",
    "    return root_node.value"
   ]
  },
  {
   "cell_type": "code",
   "execution_count": 29,
   "metadata": {},
   "outputs": [],
   "source": [
    "  def find_largest(root_node):\n",
    "    current = root_node\n",
    "    while current:\n",
    "        if not current.right:\n",
    "            return current.value\n",
    "        current = current.right"
   ]
  },
  {
   "cell_type": "code",
   "execution_count": 30,
   "metadata": {},
   "outputs": [
    {
     "data": {
      "text/plain": [
       "90"
      ]
     },
     "execution_count": 30,
     "metadata": {},
     "output_type": "execute_result"
    }
   ],
   "source": [
    "find_largest(tree)"
   ]
  },
  {
   "cell_type": "markdown",
   "metadata": {},
   "source": [
    "#### Find the Second Largest Element in a BST\n",
    "\n",
    " O(h) time, h is the height of the tree = O(lgn)  \n",
    "\n",
    "tree is balanced, O(n) / Not Balanced O(1) space."
   ]
  },
  {
   "cell_type": "code",
   "execution_count": 31,
   "metadata": {},
   "outputs": [],
   "source": [
    "def find_second_largest(root_node):\n",
    "\n",
    "    # Find the second largest item in the binary search tree\n",
    "    if (root_node is None or (root_node.left is None and root_node.right is None)):\n",
    "        raise ValueError('Tree must have at least 2 nodes')\n",
    "        \n",
    "    current = root_node\n",
    "    while current:\n",
    "        if current.left and not current.right:\n",
    "            return find_largest(current.left)\n",
    "            \n",
    "        if (current.right and not current.right.left and not current.right.right):\n",
    "            return current.value\n",
    "            \n",
    "        current = current.right\n",
    "    \n",
    "\n",
    "\n",
    "\n",
    "#helper funct\n",
    "def find_largest(root_node):\n",
    "    current = root_node\n",
    "    while current:\n",
    "        if not current.right:\n",
    "            return current.value\n",
    "        current = current.right"
   ]
  },
  {
   "cell_type": "code",
   "execution_count": 32,
   "metadata": {},
   "outputs": [],
   "source": [
    " class BinaryTreeNode(object):\n",
    "\n",
    "        def __init__(self, value):\n",
    "            self.value = value\n",
    "            self.left = None\n",
    "            self.right = None\n",
    "\n",
    "        def insert_left(self, value):\n",
    "            self.left = BinaryTreeNode(value)\n",
    "            return self.left\n",
    "\n",
    "        def insert_right(self, value):\n",
    "            self.right = BinaryTreeNode(value)\n",
    "            return self.right\n"
   ]
  },
  {
   "cell_type": "code",
   "execution_count": 33,
   "metadata": {},
   "outputs": [
    {
     "data": {
      "text/plain": [
       "70"
      ]
     },
     "execution_count": 33,
     "metadata": {},
     "output_type": "execute_result"
    }
   ],
   "source": [
    "tree = BinaryTreeNode(50)\n",
    "left = tree.insert_left(30)\n",
    "right = tree.insert_right(70)\n",
    "left.insert_left(10)\n",
    "left.insert_right(40)\n",
    "right.insert_left(60)\n",
    "right.insert_right(80)\n",
    "find_second_largest(tree)"
   ]
  },
  {
   "cell_type": "code",
   "execution_count": 34,
   "metadata": {},
   "outputs": [
    {
     "data": {
      "text/plain": [
       "65"
      ]
     },
     "execution_count": 34,
     "metadata": {},
     "output_type": "execute_result"
    }
   ],
   "source": [
    "tree = BinaryTreeNode(50)\n",
    "left = tree.insert_left(30)\n",
    "right = tree.insert_right(70)\n",
    "left.insert_left(10)\n",
    "left.insert_right(40)\n",
    "right_left = right.insert_left(60)\n",
    "right_left_left = right_left.insert_left(55)\n",
    "right_left.insert_right(65)\n",
    "right_left_left.insert_right(58)\n",
    "find_second_largest(tree)"
   ]
  },
  {
   "cell_type": "code",
   "execution_count": 38,
   "metadata": {},
   "outputs": [
    {
     "ename": "ValueError",
     "evalue": "Tree must have at least 2 nodes",
     "output_type": "error",
     "traceback": [
      "\u001b[0;31m---------------------------------------------------------------------------\u001b[0m",
      "\u001b[0;31mValueError\u001b[0m                                Traceback (most recent call last)",
      "\u001b[0;32m<ipython-input-38-d9f65158ebcc>\u001b[0m in \u001b[0;36m<module>\u001b[0;34m()\u001b[0m\n\u001b[1;32m      1\u001b[0m \u001b[0mtree\u001b[0m \u001b[0;34m=\u001b[0m \u001b[0mBinaryTreeNode\u001b[0m\u001b[0;34m(\u001b[0m\u001b[0;36m0\u001b[0m\u001b[0;34m)\u001b[0m\u001b[0;34m\u001b[0m\u001b[0m\n\u001b[0;32m----> 2\u001b[0;31m \u001b[0mfind_second_largest\u001b[0m\u001b[0;34m(\u001b[0m\u001b[0mtree\u001b[0m\u001b[0;34m)\u001b[0m\u001b[0;34m\u001b[0m\u001b[0m\n\u001b[0m",
      "\u001b[0;32m<ipython-input-31-8c0120c2eb5f>\u001b[0m in \u001b[0;36mfind_second_largest\u001b[0;34m(root_node)\u001b[0m\n\u001b[1;32m      3\u001b[0m     \u001b[0;31m# Find the second largest item in the binary search tree\u001b[0m\u001b[0;34m\u001b[0m\u001b[0;34m\u001b[0m\u001b[0m\n\u001b[1;32m      4\u001b[0m     \u001b[0;32mif\u001b[0m \u001b[0;34m(\u001b[0m\u001b[0mroot_node\u001b[0m \u001b[0;32mis\u001b[0m \u001b[0;32mNone\u001b[0m \u001b[0;32mor\u001b[0m \u001b[0;34m(\u001b[0m\u001b[0mroot_node\u001b[0m\u001b[0;34m.\u001b[0m\u001b[0mleft\u001b[0m \u001b[0;32mis\u001b[0m \u001b[0;32mNone\u001b[0m \u001b[0;32mand\u001b[0m \u001b[0mroot_node\u001b[0m\u001b[0;34m.\u001b[0m\u001b[0mright\u001b[0m \u001b[0;32mis\u001b[0m \u001b[0;32mNone\u001b[0m\u001b[0;34m)\u001b[0m\u001b[0;34m)\u001b[0m\u001b[0;34m:\u001b[0m\u001b[0;34m\u001b[0m\u001b[0m\n\u001b[0;32m----> 5\u001b[0;31m         \u001b[0;32mraise\u001b[0m \u001b[0mValueError\u001b[0m\u001b[0;34m(\u001b[0m\u001b[0;34m'Tree must have at least 2 nodes'\u001b[0m\u001b[0;34m)\u001b[0m\u001b[0;34m\u001b[0m\u001b[0m\n\u001b[0m\u001b[1;32m      6\u001b[0m \u001b[0;34m\u001b[0m\u001b[0m\n\u001b[1;32m      7\u001b[0m     \u001b[0mcurrent\u001b[0m \u001b[0;34m=\u001b[0m \u001b[0mroot_node\u001b[0m\u001b[0;34m\u001b[0m\u001b[0m\n",
      "\u001b[0;31mValueError\u001b[0m: Tree must have at least 2 nodes"
     ]
    }
   ],
   "source": [
    "tree = BinaryTreeNode(0)\n",
    "find_second_largest(tree)"
   ]
  },
  {
   "cell_type": "markdown",
   "metadata": {},
   "source": [
    "#### class TempTracker\n",
    "with Methods  get_max(), get_min(), get_mean(), and get_mode()\n",
    "\n",
    "O(1)Time  O(1) Space Complexity"
   ]
  },
  {
   "cell_type": "code",
   "execution_count": 1,
   "metadata": {},
   "outputs": [],
   "source": [
    "class TempTracker(object):\n",
    "\n",
    "    # Implement methods to track the max, min, mean, and mode\n",
    "    def __init__(self):\n",
    "        #Min/Max\n",
    "        self.min_temp = float('inf')\n",
    "        self.max_temp = float('-inf')\n",
    "        #Mean\n",
    "        self.number_of_readings = 0\n",
    "        self.total_sum = 0.0\n",
    "        self.mean = None\n",
    "        #Mode\n",
    "        self.occurrences = [0] * 111\n",
    "        self.max_occurrences = 0\n",
    "        self.mode = None\n",
    "\n",
    "    def insert(self, temperature):\n",
    "        #Min/Max\n",
    "        if temperature > self.max_temp:\n",
    "            self.max_temp = temperature\n",
    "            \n",
    "        if temperature < self.min_temp:\n",
    "            self.min_temp = temperature\n",
    "            \n",
    "        #Mean\n",
    "        self.number_of_readings += 1\n",
    "        self.total_sum += temperature\n",
    "        self.mean = self.total_sum / self.number_of_readings\n",
    "        \n",
    "        \n",
    "        #Mode\n",
    "        self.occurrences[temperature] += 1\n",
    "        if self.occurrences[temperature] > self.max_occurrences:\n",
    "            self.mode = temperature\n",
    "            self.max_occurrences = self.occurrences[temperature]\n",
    "        \n",
    "        \n",
    "    def get_max(self):\n",
    "        return self.max_temp\n",
    "\n",
    "    def get_min(self):\n",
    "        return self.min_temp\n",
    "        \n",
    "    def get_mean(self):\n",
    "        return self.mean\n",
    "        \n",
    "    def get_mode(self):\n",
    "        return self.mode\n"
   ]
  },
  {
   "cell_type": "code",
   "execution_count": 4,
   "metadata": {},
   "outputs": [],
   "source": [
    "tracker = TempTracker()\n",
    "\n",
    "tracker.insert(50)\n",
    "tracker.insert(80)\n",
    "tracker.insert(80)"
   ]
  },
  {
   "cell_type": "code",
   "execution_count": 6,
   "metadata": {},
   "outputs": [
    {
     "data": {
      "text/plain": [
       "80"
      ]
     },
     "execution_count": 6,
     "metadata": {},
     "output_type": "execute_result"
    }
   ],
   "source": [
    "tracker.get_max()"
   ]
  },
  {
   "cell_type": "code",
   "execution_count": 7,
   "metadata": {},
   "outputs": [
    {
     "data": {
      "text/plain": [
       "50"
      ]
     },
     "execution_count": 7,
     "metadata": {},
     "output_type": "execute_result"
    }
   ],
   "source": [
    "tracker.get_min()"
   ]
  },
  {
   "cell_type": "code",
   "execution_count": 8,
   "metadata": {},
   "outputs": [
    {
     "data": {
      "text/plain": [
       "70.0"
      ]
     },
     "execution_count": 8,
     "metadata": {},
     "output_type": "execute_result"
    }
   ],
   "source": [
    "tracker.get_mean()"
   ]
  },
  {
   "cell_type": "code",
   "execution_count": 9,
   "metadata": {},
   "outputs": [
    {
     "data": {
      "text/plain": [
       "80"
      ]
     },
     "execution_count": 9,
     "metadata": {},
     "output_type": "execute_result"
    }
   ],
   "source": [
    "tracker.get_mode()"
   ]
  },
  {
   "cell_type": "markdown",
   "metadata": {},
   "source": [
    "#### Write a function for finding the number that appears twice.\n",
    "I have a list of n + 1 numbers. Every number in the range 1..n appears once except for one number that appears twice.\n",
    "\n",
    "\n",
    "O(n) Time O(1)Space Complextity"
   ]
  },
  {
   "cell_type": "code",
   "execution_count": 10,
   "metadata": {},
   "outputs": [],
   "source": [
    "def find_repeat(numbers_list):\n",
    "\n",
    "    # Find the number that appears twice\n",
    "    if len(numbers_list) < 2:\n",
    "        raise ValueError('requires at least two numbers!!')\n",
    "        \n",
    "    n = len(numbers_list) -1 \n",
    "    sum_without_duplicate = (n*n+n) / 2\n",
    "    actual_sum = sum(numbers_list)\n",
    "    \n",
    "    return actual_sum - sum_without_duplicate"
   ]
  },
  {
   "cell_type": "code",
   "execution_count": 11,
   "metadata": {},
   "outputs": [
    {
     "data": {
      "text/plain": [
       "4.0"
      ]
     },
     "execution_count": 11,
     "metadata": {},
     "output_type": "execute_result"
    }
   ],
   "source": [
    "find_repeat([4, 1, 3, 4, 2])"
   ]
  },
  {
   "cell_type": "code",
   "execution_count": 15,
   "metadata": {},
   "outputs": [
    {
     "data": {
      "text/plain": [
       "2.0"
      ]
     },
     "execution_count": 15,
     "metadata": {},
     "output_type": "execute_result"
    }
   ],
   "source": [
    " find_repeat([1, 5, 9, 7, 2, 6, 3, 8, 2, 4])"
   ]
  },
  {
   "cell_type": "markdown",
   "metadata": {},
   "source": [
    "#### Delete Node from a Singly Linked List\n",
    "\n",
    "O(1) Time and Space Complexity"
   ]
  },
  {
   "cell_type": "code",
   "execution_count": 53,
   "metadata": {},
   "outputs": [],
   "source": [
    "def delete_node(node_to_delete):\n",
    "\n",
    "    # Delete the input node from the linked list\n",
    "    next_node = node_to_delete.next\n",
    "    \n",
    "    if next_node:\n",
    "        node_to_delete.value = next_node.value\n",
    "        node_to_delete.next = next_node.next\n",
    "        \n",
    "    else:\n",
    "        raise Exception('Can Not Delete')\n"
   ]
  },
  {
   "cell_type": "code",
   "execution_count": 54,
   "metadata": {},
   "outputs": [],
   "source": [
    "class LinkedListNode(object):\n",
    "\n",
    "        def __init__(self, value, next=None):\n",
    "            self.value = value\n",
    "            self.next  = next\n",
    "\n",
    "        def get_values(self):\n",
    "            node = self\n",
    "            values = []\n",
    "            while node is not None:\n",
    "                values.append(node.value)\n",
    "                node = node.next\n",
    "            return values\n"
   ]
  },
  {
   "cell_type": "code",
   "execution_count": 64,
   "metadata": {},
   "outputs": [],
   "source": [
    "A = LinkedListNode(4)\n",
    "B = LinkedListNode(3, A)\n",
    "C = LinkedListNode(2, B)\n",
    "D = LinkedListNode(1, C)"
   ]
  },
  {
   "cell_type": "code",
   "execution_count": 68,
   "metadata": {},
   "outputs": [
    {
     "data": {
      "text/plain": [
       "[1, 2, 3, 4]"
      ]
     },
     "execution_count": 68,
     "metadata": {},
     "output_type": "execute_result"
    }
   ],
   "source": [
    "D.get_values()"
   ]
  },
  {
   "cell_type": "code",
   "execution_count": 69,
   "metadata": {},
   "outputs": [],
   "source": [
    "delete_node(D)"
   ]
  },
  {
   "cell_type": "code",
   "execution_count": 70,
   "metadata": {},
   "outputs": [
    {
     "data": {
      "text/plain": [
       "[2, 3, 4]"
      ]
     },
     "execution_count": 70,
     "metadata": {},
     "output_type": "execute_result"
    }
   ],
   "source": [
    "D.get_values()"
   ]
  },
  {
   "cell_type": "code",
   "execution_count": 71,
   "metadata": {},
   "outputs": [],
   "source": [
    "delete_node(B)"
   ]
  },
  {
   "cell_type": "code",
   "execution_count": 72,
   "metadata": {},
   "outputs": [
    {
     "data": {
      "text/plain": [
       "[4]"
      ]
     },
     "execution_count": 72,
     "metadata": {},
     "output_type": "execute_result"
    }
   ],
   "source": [
    "B.get_values()"
   ]
  },
  {
   "cell_type": "markdown",
   "metadata": {},
   "source": [
    "##### In order to win the prize for most cookies sold, my friend Alice and I are going to merge our Girl Scout Cookies orders and enter as one unit.\n",
    "\n",
    "Each order is represented by an \"order id\" (an integer).\n",
    "\n",
    "O(n) time and O(n)"
   ]
  },
  {
   "cell_type": "code",
   "execution_count": 83,
   "metadata": {},
   "outputs": [],
   "source": [
    "#  Python's Native mergesort is TimSort, but gets really slow and expensive when it gets up in the millions..\n",
    "def merge_sorted_lists(arr1, arr2):\n",
    "    return sorted(arr1 + arr2)"
   ]
  },
  {
   "cell_type": "code",
   "execution_count": 80,
   "metadata": {},
   "outputs": [],
   "source": [
    "def merge_lists(my_list, alices_list):\n",
    "    # Set up our merged_list\n",
    "    merged_list_size = len(my_list) + len(alices_list)\n",
    "    merged_list = [None] * merged_list_size\n",
    "\n",
    "    current_index_alices = 0\n",
    "    current_index_mine = 0\n",
    "    current_index_merged = 0\n",
    "    while current_index_merged < merged_list_size:\n",
    "        is_my_list_exhausted = current_index_mine >= len(my_list)\n",
    "        is_alices_list_exhausted = current_index_alices >= len(alices_list)\n",
    "        if (not is_my_list_exhausted and\n",
    "                (is_alices_list_exhausted or\n",
    "                 my_list[current_index_mine] < alices_list[current_index_alices])):\n",
    "            # Case: next comes from my list\n",
    "            # My list must not be exhausted, and EITHER:\n",
    "            # 1) Alice's list IS exhausted, or\n",
    "            # 2) the current element in my list is less\n",
    "            #    than the current element in Alice's list\n",
    "            merged_list[current_index_merged] = my_list[current_index_mine]\n",
    "            current_index_mine += 1\n",
    "        else:\n",
    "            # Case: next comes from Alice's list\n",
    "            merged_list[current_index_merged] = alices_list[current_index_alices]\n",
    "            current_index_alices += 1\n",
    "\n",
    "        current_index_merged += 1\n",
    "\n",
    "    return merged_list"
   ]
  },
  {
   "cell_type": "code",
   "execution_count": 77,
   "metadata": {},
   "outputs": [],
   "source": []
  },
  {
   "cell_type": "code",
   "execution_count": 81,
   "metadata": {},
   "outputs": [
    {
     "data": {
      "text/plain": [
       "[1, 2, 3, 4, 6, 7]"
      ]
     },
     "execution_count": 81,
     "metadata": {},
     "output_type": "execute_result"
    }
   ],
   "source": [
    "merge_lists([2, 4, 6], [1, 3, 7])"
   ]
  },
  {
   "cell_type": "code",
   "execution_count": 82,
   "metadata": {},
   "outputs": [
    {
     "data": {
      "text/plain": [
       "[5, 6, 7]"
      ]
     },
     "execution_count": 82,
     "metadata": {},
     "output_type": "execute_result"
    }
   ],
   "source": [
    "merge_lists([5, 6, 7], [])"
   ]
  },
  {
   "cell_type": "markdown",
   "metadata": {},
   "source": [
    "#### Given an undirected graph with maximum degree D, find a graph coloring  using at most D+1 colors.\n",
    "\n",
    "complexity is O(N+M) time  O(D) Space\n"
   ]
  },
  {
   "cell_type": "code",
   "execution_count": 28,
   "metadata": {},
   "outputs": [],
   "source": [
    "class GraphNode:\n",
    "\n",
    "    def __init__(self, label):\n",
    "        self.label = label\n",
    "        self.neighbors = set()\n",
    "        #self.color = None\n",
    "\n",
    "        self.colors = frozenset([\n",
    "            'red',\n",
    "            'green',\n",
    "            'blue',\n",
    "            'orange',\n",
    "            'yellow',\n",
    "            'white',\n",
    "        ])\n",
    "\n",
    "\n",
    "def color_graph(graph, colors):\n",
    "\n",
    "    # Create a valid coloring for the graph\n",
    "    for node in graph:\n",
    "        if node in node.neighbors:\n",
    "            raise Exception('Legal coloring impossible for node with with loop: %s' %node.label)\n",
    "            \n",
    "        illegal_colors = set([neighbor.color for neighbor in node.neighbors if neighbor.color])\n",
    "        \n",
    "        for color in colors:\n",
    "            if color not in illegal_colors:\n",
    "                node.color = color \n",
    "                break"
   ]
  },
  {
   "cell_type": "markdown",
   "metadata": {},
   "source": [
    "#### Given information about active users on the network, find the shortest route for a message from one user (the sender) to another (the recipient). Return a list of users that make up this route."
   ]
  },
  {
   "cell_type": "code",
   "execution_count": 34,
   "metadata": {},
   "outputs": [],
   "source": [
    "# BFS\n",
    "\n",
    "from collections import deque\n",
    "\n",
    "\n",
    "def bfs(graph, start_node, end_node):\n",
    "    nodes_to_visit = deque()\n",
    "    nodes_to_visit.append(start_node)\n",
    "\n",
    "    # Keep track of what nodes we've already seen\n",
    "    # so we don't process them twice\n",
    "    nodes_already_seen = set([start_node])\n",
    "\n",
    "    while len(nodes_to_visit) > 0:\n",
    "        current_node = nodes_to_visit.popleft()\n",
    "\n",
    "        # Stop when we reach the end node\n",
    "        if current_node == end_node:\n",
    "            # Found it!\n",
    "            break\n",
    "\n",
    "        for neighbor in graph[current_node]:\n",
    "            if neighbor not in nodes_already_seen:\n",
    "                nodes_already_seen.add(neighbor)\n",
    "                nodes_to_visit.append(neighbor)"
   ]
  },
  {
   "cell_type": "markdown",
   "metadata": {},
   "source": [
    "#### Given information about active users on the network, find the shortest route for a message from one user (the sender) to another (the recipient). Return a list of users that make up this route.\n",
    "\n",
    "O(N+M) Time O(N) space"
   ]
  },
  {
   "cell_type": "code",
   "execution_count": 35,
   "metadata": {},
   "outputs": [],
   "source": [
    "from collections import deque\n",
    "\n",
    "\n",
    "def reconstruct_path(previous_nodes, start_node, end_node):\n",
    "    reversed_shortest_path = []\n",
    "\n",
    "    # Start from the end of the path and work backwards\n",
    "    current_node = end_node\n",
    "    while current_node:\n",
    "        reversed_shortest_path.append(current_node)\n",
    "        current_node = previous_nodes[current_node]\n",
    "\n",
    "    # Reverse our path to get the right order\n",
    "    reversed_shortest_path.reverse()  # flip it around, in place\n",
    "    return reversed_shortest_path  # no longer reversed\n",
    "\n",
    "\n",
    "def bfs_get_path(graph, start_node, end_node):\n",
    "    if start_node not in graph:\n",
    "        raise Exception('Start node not in graph')\n",
    "    if end_node not in graph:\n",
    "        raise Exception('End node not in graph')\n",
    "\n",
    "    nodes_to_visit = deque()\n",
    "    nodes_to_visit.append(start_node)\n",
    "\n",
    "    # Keep track of how we got to each node\n",
    "    # We'll use this to reconstruct the shortest path at the end\n",
    "    # We'll ALSO use this to keep track of which nodes we've\n",
    "    # already visited\n",
    "    how_we_reached_nodes = {start_node: None}\n",
    "\n",
    "    while len(nodes_to_visit) > 0:\n",
    "        current_node = nodes_to_visit.popleft()\n",
    "\n",
    "        # Stop when we reach the end node\n",
    "        if current_node == end_node:\n",
    "            return reconstruct_path(how_we_reached_nodes, start_node, end_node)\n",
    "\n",
    "        for neighbor in graph[current_node]:\n",
    "            if neighbor not in how_we_reached_nodes:\n",
    "                nodes_to_visit.append(neighbor)\n",
    "                how_we_reached_nodes[neighbor] = current_node\n",
    "\n",
    "    # If we get here, then we never found the end node\n",
    "    # so there's NO path from start_node to end_node\n",
    "    return None"
   ]
  },
  {
   "cell_type": "code",
   "execution_count": 36,
   "metadata": {},
   "outputs": [],
   "source": [
    "graph = {\n",
    "            'a': ['b', 'c', 'd'],\n",
    "            'b': ['a', 'd'],\n",
    "            'c': ['a', 'e'],\n",
    "            'd': ['a', 'b'],\n",
    "            'e': ['c'],\n",
    "            'f': ['g'],\n",
    "            'g': ['f'],\n",
    "        }"
   ]
  },
  {
   "cell_type": "code",
   "execution_count": 41,
   "metadata": {},
   "outputs": [
    {
     "data": {
      "text/plain": [
       "['a', 'c', 'e']"
      ]
     },
     "execution_count": 41,
     "metadata": {},
     "output_type": "execute_result"
    }
   ],
   "source": [
    "bfs_get_path(graph, 'a', 'e')"
   ]
  },
  {
   "cell_type": "markdown",
   "metadata": {},
   "source": [
    "#### Write a recursive function for generating all permutations of an input string. Return them as a set.\n"
   ]
  },
  {
   "cell_type": "code",
   "execution_count": 47,
   "metadata": {},
   "outputs": [],
   "source": [
    "def get_permutations(string):\n",
    "    # Base case\n",
    "    if len(string) <= 1:\n",
    "        return set([string])\n",
    "\n",
    "    all_chars_except_last = string[:-1]\n",
    "    last_char = string[-1]\n",
    "\n",
    "    # Recursive call: get all possible permutations for all chars except last\n",
    "    permutations_of_all_chars_except_last = get_permutations(all_chars_except_last)\n",
    "\n",
    "    # Put the last char in all possible positions for each of\n",
    "    # the above permutations\n",
    "    permutations = set()\n",
    "    for permutation_of_all_chars_except_last in permutations_of_all_chars_except_last:\n",
    "        for position in range(len(all_chars_except_last) + 1):\n",
    "            permutation = (\n",
    "                permutation_of_all_chars_except_last[:position]\n",
    "                + last_char\n",
    "                + permutation_of_all_chars_except_last[position:]\n",
    "            )\n",
    "            permutations.add(permutation)\n",
    "\n",
    "    return permutations"
   ]
  },
  {
   "cell_type": "code",
   "execution_count": 48,
   "metadata": {},
   "outputs": [
    {
     "data": {
      "text/plain": [
       "{'ab', 'ba'}"
      ]
     },
     "execution_count": 48,
     "metadata": {},
     "output_type": "execute_result"
    }
   ],
   "source": [
    "get_permutations('ab')"
   ]
  },
  {
   "cell_type": "code",
   "execution_count": 49,
   "metadata": {},
   "outputs": [
    {
     "data": {
      "text/plain": [
       "{'abc', 'acb', 'bac', 'bca', 'cab', 'cba'}"
      ]
     },
     "execution_count": 49,
     "metadata": {},
     "output_type": "execute_result"
    }
   ],
   "source": [
    " get_permutations('abc')"
   ]
  },
  {
   "cell_type": "markdown",
   "metadata": {},
   "source": [
    "### KnapSack Problem\n",
    "#### Write a function max_duffel_bag_value() that takes a list of cake type tuples and a weight capacity, and returns the maximum monetary value the duffel bag can hold.\n",
    "\n",
    "O(n∗k) time, and O(k)Ospace Compexity"
   ]
  },
  {
   "cell_type": "code",
   "execution_count": 3,
   "metadata": {},
   "outputs": [],
   "source": [
    "def max_duffel_bag_value(item_tuples, weight_capacity):\n",
    "    # We make a list to hold the maximum possible value at every\n",
    "    # duffel bag weight capacity from 0 to weight_capacity\n",
    "    # starting each index with value 0\n",
    "    max_values_at_capacities = [0] * (weight_capacity + 1)\n",
    "\n",
    "    for current_capacity in range(weight_capacity + 1):\n",
    "        # Set a variable to hold the max monetary value so far\n",
    "        # for current_capacity\n",
    "        current_max_value = 0\n",
    "\n",
    "        for item_weight, item_value in item_tuples:\n",
    "            # If a cake weighs 0 and has a positive value the value of\n",
    "            # our duffel bag is infinite!\n",
    "            if item_weight == 0 and item_value != 0:\n",
    "                return float('inf')\n",
    "\n",
    "            # If the current cake weighs as much or less than the\n",
    "            # current weight capacity it's possible taking the cake\n",
    "            # would get a better value\n",
    "            if item_weight <= current_capacity:\n",
    "\n",
    "                # So we check: should we use the cake or not?\n",
    "                # If we use the cake, the most kilograms we can include in\n",
    "                # addition to the cake we're adding is the current capacity\n",
    "                # minus the cake's weight. We find the max value at that\n",
    "                # integer capacity in our list max_values_at_capacities\n",
    "                max_value_using_item = (\n",
    "                    item_value\n",
    "                    + max_values_at_capacities[current_capacity - item_weight]\n",
    "                )\n",
    "\n",
    "                # Now we see if it's worth taking the cake. how does the\n",
    "                # value with the cake compare to the current_max_value?\n",
    "                current_max_value = max(max_value_using_item,\n",
    "                                        current_max_value)\n",
    "\n",
    "        # Add each capacity's max value to our list so we can use them\n",
    "        # when calculating all the remaining capacities\n",
    "        max_values_at_capacities[current_capacity] = current_max_value\n",
    "\n",
    "    return max_values_at_capacities[weight_capacity]\n"
   ]
  },
  {
   "cell_type": "code",
   "execution_count": 4,
   "metadata": {},
   "outputs": [
    {
     "data": {
      "text/plain": [
       "9"
      ]
     },
     "execution_count": 4,
     "metadata": {},
     "output_type": "execute_result"
    }
   ],
   "source": [
    "max_duffel_bag_value([(4, 4), (5, 5)], 9)"
   ]
  },
  {
   "cell_type": "code",
   "execution_count": 6,
   "metadata": {},
   "outputs": [
    {
     "data": {
      "text/plain": [
       "12"
      ]
     },
     "execution_count": 6,
     "metadata": {},
     "output_type": "execute_result"
    }
   ],
   "source": [
    "max_duffel_bag_value([(2, 3), (3, 6), (5, 1), (6, 1), (7, 1), (8, 1)], 7)"
   ]
  },
  {
   "cell_type": "code",
   "execution_count": 7,
   "metadata": {},
   "outputs": [
    {
     "data": {
      "text/plain": [
       "100"
      ]
     },
     "execution_count": 7,
     "metadata": {},
     "output_type": "execute_result"
    }
   ],
   "source": [
    "max_duffel_bag_value([(51, 52), (50, 50)], 100)"
   ]
  },
  {
   "cell_type": "code",
   "execution_count": 8,
   "metadata": {},
   "outputs": [
    {
     "data": {
      "text/plain": [
       "inf"
      ]
     },
     "execution_count": 8,
     "metadata": {},
     "output_type": "execute_result"
    }
   ],
   "source": [
    "max_duffel_bag_value([(0, 5)], 5)"
   ]
  },
  {
   "cell_type": "markdown",
   "metadata": {},
   "source": [
    "#### Use your Stack class to implement a new class MaxStack with a method get_max() that returns the largest element in the stack. get_max() should not remove the item.\n",
    "\n",
    "\n",
    "O(1) time for push(), pop(), and get_max(). O(m) additional space, where mm is the number of operations performed on the stack."
   ]
  },
  {
   "cell_type": "code",
   "execution_count": 2,
   "metadata": {},
   "outputs": [],
   "source": [
    "#BasicStack\n",
    "class Stack(object):\n",
    "\n",
    "    def __init__(self):\n",
    "        \"\"\"Initialize an empty stack\"\"\"\n",
    "        self.items = []\n",
    "\n",
    "    def push(self, item):\n",
    "        \"\"\"Push new item to stack\"\"\"\n",
    "        self.items.append(item)\n",
    "\n",
    "    def pop(self):\n",
    "        \"\"\"Remove and return last item\"\"\"\n",
    "        # If the stack is empty, return None\n",
    "        # (it would also be reasonable to throw an exception)\n",
    "        if not self.items:\n",
    "            return None\n",
    "\n",
    "        return self.items.pop()\n",
    "\n",
    "    def peek(self):\n",
    "        \"\"\"See what the last item is\"\"\"\n",
    "        if not self.items:\n",
    "            return None\n",
    "        return self.items[-1]\n",
    "\n",
    "    \n",
    "    \n",
    "class MaxStack(object):\n",
    "\n",
    "    def __init__(self):\n",
    "        self.stack = Stack()\n",
    "        self.maxes_stack = Stack()\n",
    "\n",
    "    def push(self, item):\n",
    "        \"\"\"Add a new item to the top of our stack.\"\"\"\n",
    "        self.stack.push(item)\n",
    "\n",
    "        # If the item is greater than or equal to the last item in maxes_stack,\n",
    "        # it's the new max! So we'll add it to maxes_stack.\n",
    "        if self.maxes_stack.peek() is None or item >= self.maxes_stack.peek():\n",
    "            self.maxes_stack.push(item)\n",
    "\n",
    "    def pop(self):\n",
    "        \"\"\"Remove and return the top item from our stack.\"\"\"\n",
    "        item = self.stack.pop()\n",
    "\n",
    "        # If it equals the top item in maxes_stack, they must have been pushed\n",
    "        # in together. So we'll pop it out of maxes_stack too.\n",
    "        if item == self.maxes_stack.peek():\n",
    "            self.maxes_stack.pop()\n",
    "\n",
    "        return item\n",
    "\n",
    "    def get_max(self):\n",
    "        \"\"\"The last item in maxes_stack is the max item in our stack.\"\"\"\n",
    "        return self.maxes_stack.peek()"
   ]
  },
  {
   "cell_type": "code",
   "execution_count": 12,
   "metadata": {},
   "outputs": [],
   "source": [
    "max_stack = MaxStack()\n",
    "    \n",
    "max_stack.push(4)\n",
    "max_stack.push(7)\n",
    "max_stack.push(7)\n",
    "max_stack.push(8)"
   ]
  },
  {
   "cell_type": "code",
   "execution_count": 13,
   "metadata": {},
   "outputs": [
    {
     "data": {
      "text/plain": [
       "8"
      ]
     },
     "execution_count": 13,
     "metadata": {},
     "output_type": "execute_result"
    }
   ],
   "source": [
    "max_stack.get_max()"
   ]
  },
  {
   "cell_type": "code",
   "execution_count": 14,
   "metadata": {},
   "outputs": [
    {
     "data": {
      "text/plain": [
       "7"
      ]
     },
     "execution_count": 14,
     "metadata": {},
     "output_type": "execute_result"
    }
   ],
   "source": [
    "max_stack.pop()\n",
    "max_stack.get_max()"
   ]
  },
  {
   "cell_type": "code",
   "execution_count": 15,
   "metadata": {},
   "outputs": [
    {
     "data": {
      "text/plain": [
       "7"
      ]
     },
     "execution_count": 15,
     "metadata": {},
     "output_type": "execute_result"
    }
   ],
   "source": [
    "max_stack.pop()\n",
    "max_stack.get_max()"
   ]
  },
  {
   "cell_type": "code",
   "execution_count": 16,
   "metadata": {},
   "outputs": [
    {
     "data": {
      "text/plain": [
       "4"
      ]
     },
     "execution_count": 16,
     "metadata": {},
     "output_type": "execute_result"
    }
   ],
   "source": [
    "max_stack.pop()\n",
    "       \n",
    "max_stack.get_max()"
   ]
  },
  {
   "cell_type": "code",
   "execution_count": 17,
   "metadata": {},
   "outputs": [],
   "source": [
    "max_stack.pop()\n",
    "        \n",
    "max_stack.get_max()     "
   ]
  },
  {
   "cell_type": "markdown",
   "metadata": {},
   "source": [
    "#### Implement a queue with 2 stacks. Your queue should have an enqueue and a dequeue method and it should be \"first in first out\" (FIFO).\n",
    "\n",
    "O(1) Time Complexity "
   ]
  },
  {
   "cell_type": "code",
   "execution_count": 18,
   "metadata": {},
   "outputs": [],
   "source": [
    "class QueueTwoStacks(object):\n",
    "\n",
    "    def __init__(self):\n",
    "        self.in_stack  = []\n",
    "        self.out_stack = []\n",
    "\n",
    "    def enqueue(self, item):\n",
    "        self.in_stack.append(item)\n",
    "\n",
    "    def dequeue(self):\n",
    "        if len(self.out_stack) == 0:\n",
    "\n",
    "            # Move items from in_stack to out_stack, reversing order\n",
    "            while len(self.in_stack) > 0:\n",
    "                newest_in_stack_item = self.in_stack.pop()\n",
    "                self.out_stack.append(newest_in_stack_item)\n",
    "\n",
    "            # If out_stack is still empty, raise an error\n",
    "            if len(self.out_stack) == 0:\n",
    "                raise IndexError(\"Can't dequeue from empty queue!\")\n",
    "\n",
    "        return self.out_stack.pop()"
   ]
  },
  {
   "cell_type": "code",
   "execution_count": 19,
   "metadata": {},
   "outputs": [],
   "source": [
    "queue = QueueTwoStacks()\n",
    "\n",
    "queue.enqueue(1)\n",
    "queue.enqueue(2)\n",
    "queue.enqueue(3)      "
   ]
  },
  {
   "cell_type": "code",
   "execution_count": 20,
   "metadata": {},
   "outputs": [
    {
     "data": {
      "text/plain": [
       "1"
      ]
     },
     "execution_count": 20,
     "metadata": {},
     "output_type": "execute_result"
    }
   ],
   "source": [
    "queue.dequeue()"
   ]
  },
  {
   "cell_type": "code",
   "execution_count": 21,
   "metadata": {},
   "outputs": [
    {
     "data": {
      "text/plain": [
       "2"
      ]
     },
     "execution_count": 21,
     "metadata": {},
     "output_type": "execute_result"
    }
   ],
   "source": [
    "queue.dequeue()"
   ]
  },
  {
   "cell_type": "code",
   "execution_count": 22,
   "metadata": {},
   "outputs": [],
   "source": [
    "queue.enqueue(4)"
   ]
  },
  {
   "cell_type": "code",
   "execution_count": 23,
   "metadata": {},
   "outputs": [
    {
     "data": {
      "text/plain": [
       "3"
      ]
     },
     "execution_count": 23,
     "metadata": {},
     "output_type": "execute_result"
    }
   ],
   "source": [
    "queue.dequeue()"
   ]
  },
  {
   "cell_type": "code",
   "execution_count": 24,
   "metadata": {},
   "outputs": [
    {
     "data": {
      "text/plain": [
       "4"
      ]
     },
     "execution_count": 24,
     "metadata": {},
     "output_type": "execute_result"
    }
   ],
   "source": [
    "queue.dequeue()"
   ]
  },
  {
   "cell_type": "markdown",
   "metadata": {},
   "source": [
    "#### Write a function that, given a sentence like the one above, along with the position of an opening parenthesis, finds the corresponding closing parenthesis.\n",
    "\n",
    "O(n) time, where nn is the number of chars in the string. O(1) space."
   ]
  },
  {
   "cell_type": "code",
   "execution_count": 3,
   "metadata": {},
   "outputs": [],
   "source": [
    "def get_closing_paren(sentence, opening_paren_index):\n",
    "    open_nested_parens = 0\n",
    "\n",
    "    for position in range(opening_paren_index + 1, len(sentence)):\n",
    "        char = sentence[position]\n",
    "\n",
    "        if char == '(':\n",
    "            open_nested_parens += 1\n",
    "        elif char == ')':\n",
    "            if open_nested_parens == 0:\n",
    "                return position\n",
    "            else:\n",
    "                open_nested_parens -= 1\n",
    "\n",
    "    raise Exception(\"No closing parenthesis :(\")\n"
   ]
  },
  {
   "cell_type": "code",
   "execution_count": 4,
   "metadata": {},
   "outputs": [
    {
     "data": {
      "text/plain": [
       "7"
      ]
     },
     "execution_count": 4,
     "metadata": {},
     "output_type": "execute_result"
    }
   ],
   "source": [
    "get_closing_paren('((((()))))', 2)"
   ]
  },
  {
   "cell_type": "markdown",
   "metadata": {},
   "source": [
    "#### write a braces/brackets/parentheses validator.\n",
    "O(n) time (one iteration through the string), and O(n) space"
   ]
  },
  {
   "cell_type": "code",
   "execution_count": 5,
   "metadata": {},
   "outputs": [],
   "source": [
    "def is_valid(code):\n",
    "\n",
    "    # Determine if the input code is valid\n",
    "    \n",
    "    \n",
    "    if len(code)%2 != 0:\n",
    "        return False\n",
    "    \n",
    "    opening = set('([{')\n",
    "    \n",
    "    matches = set([ ('(',')'), ('[',']'), ('{','}') ])\n",
    "    \n",
    "    stack = []\n",
    "    \n",
    "    for paren in code:\n",
    "        if paren in opening:\n",
    "            stack.append(paren)\n",
    "            \n",
    "        else:\n",
    "            if len(stack) == 0:\n",
    "                return False\n",
    "            \n",
    "            last_open = stack.pop()\n",
    "            \n",
    "            if (last_open, paren) not in matches:\n",
    "                return False\n",
    "            \n",
    "    return len(stack) == 0\n"
   ]
  },
  {
   "cell_type": "code",
   "execution_count": 6,
   "metadata": {},
   "outputs": [
    {
     "data": {
      "text/plain": [
       "True"
      ]
     },
     "execution_count": 6,
     "metadata": {},
     "output_type": "execute_result"
    }
   ],
   "source": [
    "is_valid('()')"
   ]
  },
  {
   "cell_type": "code",
   "execution_count": 7,
   "metadata": {},
   "outputs": [
    {
     "data": {
      "text/plain": [
       "False"
      ]
     },
     "execution_count": 7,
     "metadata": {},
     "output_type": "execute_result"
    }
   ],
   "source": [
    "is_valid('[[]()')"
   ]
  },
  {
   "cell_type": "markdown",
   "metadata": {},
   "source": [
    "#### Write a function contains_cycle() that takes the first node in a singly-linked list and returns a boolean indicating whether the list contains a cycle.\n",
    "\n",
    "O(n) time and O(1) space."
   ]
  },
  {
   "cell_type": "code",
   "execution_count": 8,
   "metadata": {},
   "outputs": [],
   "source": [
    "def contains_cycle(node):\n",
    "\n",
    "    # Check if the linked list contains a cycle\n",
    "    marker1 = node\n",
    "    marker2 = node\n",
    "    while marker2 != None and marker2.next != None:\n",
    "        marker1 = marker1.next\n",
    "        marker2 = marker2.next.next\n",
    "        if marker2 == marker1:\n",
    "            return True\n",
    "       \n",
    "\n",
    "    return False\n"
   ]
  },
  {
   "cell_type": "code",
   "execution_count": 9,
   "metadata": {},
   "outputs": [],
   "source": [
    "class LinkedListNode(object):\n",
    "    def __init__(self, value, next=None):\n",
    "        self.value = value\n",
    "        self.next  = next    "
   ]
  },
  {
   "cell_type": "code",
   "execution_count": 10,
   "metadata": {},
   "outputs": [],
   "source": [
    "fourth = LinkedListNode(4)\n",
    "third = LinkedListNode(3, fourth)\n",
    "second = LinkedListNode(2, third)\n",
    "first = LinkedListNode(1, second)"
   ]
  },
  {
   "cell_type": "code",
   "execution_count": 13,
   "metadata": {},
   "outputs": [
    {
     "data": {
      "text/plain": [
       "False"
      ]
     },
     "execution_count": 13,
     "metadata": {},
     "output_type": "execute_result"
    }
   ],
   "source": [
    "contains_cycle(first)"
   ]
  },
  {
   "cell_type": "code",
   "execution_count": 14,
   "metadata": {},
   "outputs": [],
   "source": [
    "fourth = LinkedListNode(4)\n",
    "third = LinkedListNode(3, fourth)\n",
    "second = LinkedListNode(2, third)\n",
    "first = LinkedListNode(1, second)\n",
    "fourth.next = first"
   ]
  },
  {
   "cell_type": "code",
   "execution_count": 15,
   "metadata": {},
   "outputs": [
    {
     "data": {
      "text/plain": [
       "True"
      ]
     },
     "execution_count": 15,
     "metadata": {},
     "output_type": "execute_result"
    }
   ],
   "source": [
    "contains_cycle(first)"
   ]
  },
  {
   "cell_type": "markdown",
   "metadata": {},
   "source": [
    "#### Write a function for reversing a linked list. Do it in place. \n",
    "\n",
    "O(n) time and O(1) space"
   ]
  },
  {
   "cell_type": "code",
   "execution_count": 48,
   "metadata": {},
   "outputs": [],
   "source": [
    "  def reverse(head):\n",
    "\n",
    "    # Reverse the linked list in place\n",
    "    current = head\n",
    "    previous = None\n",
    "    nextnode = None\n",
    "       \n",
    "    while current:\n",
    "        next = current.next\n",
    "        current.next= previous\n",
    "        previous = current\n",
    "        current = next\n",
    "            \n",
    "    return previous\n",
    "        \n"
   ]
  },
  {
   "cell_type": "code",
   "execution_count": 49,
   "metadata": {},
   "outputs": [],
   "source": [
    " class LinkedListNode(object):\n",
    "\n",
    "        def __init__(self, value, next=None):\n",
    "            self.value = value\n",
    "            self.next  = next\n",
    "\n",
    "        def get_values(self):\n",
    "            node = self\n",
    "            values = []\n",
    "            while node is not None:\n",
    "                values.append(node.value)\n",
    "                node = node.next\n",
    "            return values"
   ]
  },
  {
   "cell_type": "code",
   "execution_count": 50,
   "metadata": {},
   "outputs": [],
   "source": [
    "sixth = LinkedListNode(6)\n",
    "fifth = LinkedListNode(5, sixth)\n",
    "fourth = LinkedListNode(4, fifth)\n",
    "third = LinkedListNode(3, fourth)\n",
    "second = LinkedListNode(2, third)\n",
    "first = LinkedListNode(1, second)"
   ]
  },
  {
   "cell_type": "code",
   "execution_count": 51,
   "metadata": {},
   "outputs": [
    {
     "data": {
      "text/plain": [
       "[6, 5, 4, 3, 2, 1]"
      ]
     },
     "execution_count": 51,
     "metadata": {},
     "output_type": "execute_result"
    }
   ],
   "source": [
    "result = reverse(first)\n",
    "result.get_values()"
   ]
  },
  {
   "cell_type": "markdown",
   "metadata": {},
   "source": [
    "#### Write a function kth_to_last_node() that takes an integer kk and the head_node of a singly-linked list, and returns the kkth to last node in the list.\n",
    "\n",
    "O(n) time and O(1) space."
   ]
  },
  {
   "cell_type": "code",
   "execution_count": 58,
   "metadata": {},
   "outputs": [],
   "source": [
    "def kth_to_last_node(k, head):\n",
    "\n",
    "    # Return the kth to last node in the linked list\n",
    "    if k < 1:\n",
    "        raise ValueError(\n",
    "            'Impossible to find less than first to last node: %s' % k\n",
    "        )  \n",
    "\n",
    "    left_node  = head\n",
    "    right_node = head\n",
    "\n",
    "    # Move right_node to the kth node\n",
    "    for _ in range(k - 1):\n",
    "        # But along the way, if a right_node doesn't have a next,\n",
    "        # then k is greater than the length of the list and there\n",
    "        # can't be a kth-to-last node! we'll raise an error\n",
    "        if not right_node.next:\n",
    "            raise ValueError(\n",
    "                'k is larger than the length of the linked list: %s' % k\n",
    "            )\n",
    "        right_node = right_node.next\n",
    "\n",
    "    # Starting with left_node on the head,\n",
    "    # move left_node and right_node down the list,\n",
    "    # maintaining a distance of k between them,\n",
    "    # until right_node hits the end of the list\n",
    "    while right_node.next:\n",
    "        left_node  = left_node.next\n",
    "        right_node = right_node.next\n",
    "\n",
    "    # Since left_node is k nodes behind right_node,\n",
    "    # left_node is now the kth to last node!\n",
    "    return left_node"
   ]
  },
  {
   "cell_type": "code",
   "execution_count": 59,
   "metadata": {},
   "outputs": [],
   "source": [
    "class LinkedListNode(object):\n",
    "\n",
    "        def __init__(self, value, next=None):\n",
    "            self.value = value\n",
    "            self.next  = next\n",
    "\n",
    "        def get_values(self):\n",
    "            node = self\n",
    "            values = []\n",
    "            while node is not None:\n",
    "                values.append(node.value)\n",
    "                node = node.next\n",
    "            return values\n"
   ]
  },
  {
   "cell_type": "code",
   "execution_count": 66,
   "metadata": {},
   "outputs": [],
   "source": [
    "fourth = LinkedListNode(4)\n",
    "third = LinkedListNode(3, fourth)\n",
    "second = LinkedListNode(2, third)\n",
    "first = LinkedListNode(1, second)"
   ]
  },
  {
   "cell_type": "code",
   "execution_count": 64,
   "metadata": {},
   "outputs": [
    {
     "data": {
      "text/plain": [
       "[4]"
      ]
     },
     "execution_count": 64,
     "metadata": {},
     "output_type": "execute_result"
    }
   ],
   "source": [
    "results = kth_to_last_node(1, first)\n",
    "results.get_values()"
   ]
  },
  {
   "cell_type": "code",
   "execution_count": 69,
   "metadata": {},
   "outputs": [
    {
     "data": {
      "text/plain": [
       "[3, 4]"
      ]
     },
     "execution_count": 69,
     "metadata": {},
     "output_type": "execute_result"
    }
   ],
   "source": [
    "results = kth_to_last_node(2, first)\n",
    "results.get_values()"
   ]
  },
  {
   "cell_type": "markdown",
   "metadata": {},
   "source": [
    "#### Trie to store and compress down a database\n",
    "\n",
    "O(n to the 26power)"
   ]
  },
  {
   "cell_type": "code",
   "execution_count": 70,
   "metadata": {},
   "outputs": [],
   "source": [
    "class Trie(object):\n",
    "\n",
    "    # Implement a trie and use it to efficiently store strings\n",
    "    def __init__(self):\n",
    "        self.root_node = {}\n",
    "\n",
    "    def add_word(self, word):\n",
    "        current_node = self.root_node\n",
    "        is_new_word = False\n",
    "\n",
    "        # Work downwards through the trie, adding nodes\n",
    "        # as needed, and keeping track of whether we add\n",
    "        # any nodes.\n",
    "        for char in word:\n",
    "            if char not in current_node:\n",
    "                is_new_word = True\n",
    "                current_node[char] = {}\n",
    "            current_node = current_node[char]\n",
    "\n",
    "        # Explicitly mark the end of a word.\n",
    "        # Otherwise, we might say a word is\n",
    "        # present if it is a prefix of a different,\n",
    "        # longer word that was added earlier.\n",
    "        if \"End Of Word\" not in current_node:\n",
    "            is_new_word = True\n",
    "            current_node[\"End Of Word\"] = {}\n",
    "\n",
    "        return is_new_word"
   ]
  },
  {
   "cell_type": "code",
   "execution_count": 71,
   "metadata": {},
   "outputs": [],
   "source": [
    "trie = Trie()"
   ]
  },
  {
   "cell_type": "code",
   "execution_count": 72,
   "metadata": {},
   "outputs": [
    {
     "data": {
      "text/plain": [
       "True"
      ]
     },
     "execution_count": 72,
     "metadata": {},
     "output_type": "execute_result"
    }
   ],
   "source": [
    "trie.add_word('catch')"
   ]
  },
  {
   "cell_type": "code",
   "execution_count": 73,
   "metadata": {},
   "outputs": [
    {
     "data": {
      "text/plain": [
       "False"
      ]
     },
     "execution_count": 73,
     "metadata": {},
     "output_type": "execute_result"
    }
   ],
   "source": [
    "trie.add_word('catch')"
   ]
  },
  {
   "cell_type": "code",
   "execution_count": 74,
   "metadata": {},
   "outputs": [
    {
     "data": {
      "text/plain": [
       "True"
      ]
     },
     "execution_count": 74,
     "metadata": {},
     "output_type": "execute_result"
    }
   ],
   "source": [
    "trie.add_word('catched')"
   ]
  },
  {
   "cell_type": "code",
   "execution_count": 75,
   "metadata": {},
   "outputs": [
    {
     "data": {
      "text/plain": [
       "False"
      ]
     },
     "execution_count": 75,
     "metadata": {},
     "output_type": "execute_result"
    }
   ],
   "source": [
    "trie.add_word('catch')"
   ]
  },
  {
   "cell_type": "code",
   "execution_count": null,
   "metadata": {},
   "outputs": [],
   "source": []
  }
 ],
 "metadata": {
  "kernelspec": {
   "display_name": "Python 3",
   "language": "python",
   "name": "python3"
  },
  "language_info": {
   "codemirror_mode": {
    "name": "ipython",
    "version": 3
   },
   "file_extension": ".py",
   "mimetype": "text/x-python",
   "name": "python",
   "nbconvert_exporter": "python",
   "pygments_lexer": "ipython3",
   "version": "3.6.5"
  }
 },
 "nbformat": 4,
 "nbformat_minor": 2
}
